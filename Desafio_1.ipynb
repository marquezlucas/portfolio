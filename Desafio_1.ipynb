{
 "cells": [
  {
   "cell_type": "markdown",
   "id": "5fec17f4",
   "metadata": {},
   "source": [
    "<h1> Desafio 1 - Grupo 2</h1>"
   ]
  },
  {
   "cell_type": "markdown",
   "id": "4128ff02",
   "metadata": {},
   "source": [
    "<a id=\"section_integrantes\"></a> \n",
    "## Integrantes\n",
    "\n",
    "*  Márquez, Lucas Andrés\n",
    "*  Mazzi, Agustin Estanislao\n",
    "*  Murat, Natalia\n",
    "*  Morinigo, Pablo Daniel\n",
    "*  Quintana, Maria Dolores\n",
    "\n",
    "---\n"
   ]
  },
  {
   "cell_type": "markdown",
   "id": "2863e1cc",
   "metadata": {},
   "source": [
    "<a id=\"section_toc\"></a>\n",
    "## <u>Tabla de Contenidos</u>\n",
    "\n",
    "[1. Introduccion](#section_intro)\n",
    "\n",
    "<!-- [Dataset](#section_dataset)\n",
    "\n",
    "[Imports](#section_imports)   -->\n",
    "\n",
    "[2. Valores Faltantes](#section_limpieza_datos) \n",
    "\n",
    "[3. Limpieza de Outliers](#section_limpieza_de_outliers)\n",
    "\n",
    "[4. Eliminacion de Duplicados](#section_elim_dup)\n",
    "\n",
    "[5. Nuevos Campos](#section_varnuevas)\n",
    "\n",
    "[6. Dataset Final](#section_dbfinal)\n",
    "\n",
    "---\n"
   ]
  },
  {
   "cell_type": "markdown",
   "id": "032bdc94",
   "metadata": {},
   "source": [
    "## 1. Introduccion\n",
    "\n",
    "[volver a TOC](#section_toc)\n",
    "\n",
    "El objetivo de este desafio consiste en efectuar una limpieza del dataset provisto diseñando estrategias\n",
    "para lidiar con los datos perdidos en ciertas variables, realizar un análisis descriptivo de las principales variables y si en necesario crear nuevas columnas a partir de las características dadas que puedan tener valor\n",
    "predictivo.\n",
    "\n",
    "---"
   ]
  },
  {
   "cell_type": "markdown",
   "id": "64f4778f",
   "metadata": {},
   "source": [
    "\n",
    "**1.1. Dataset**:\n",
    "\n",
    "Usaremos un dataset que publica periódicamente la inmobiliaria Properati y que contiene información sobre ofertas de propiedades para la venta:\n",
    "\n",
    "https://drive.google.com/drive/folders/1qEIWk8Wyp7w_ic5XwACuSiD9K4aiYlOW?usp=sharing \n",
    "\n",
    "El dataset contiene información sobre todas las propiedades georeferenciadas de la base de\n",
    "datos de la empresa. La información que incluye de cada propiedad es la siguiente:\n",
    "* ID de registro\n",
    "* Tipo de la propiedad (house, apartment, ph)\n",
    "* Operación del aviso (sell, rent)\n",
    "* Nombre del lugar\n",
    "* Nombre del lugar + nombre de sus ‘padres’\n",
    "* ID de geonames del lugar (si está disponible)\n",
    "* Latitud, longitud\n",
    "* Precio original del aviso\n",
    "* Moneda original del aviso (ARS, USD)\n",
    "* Precio del aviso en moneda local (ARS)\n",
    "* Precio aproximado en USD\n",
    "* Superficie en m2\n",
    "* Superficie cubierta en m2\n",
    "* Precio en USD/m2\n",
    "* Precio por m2\n",
    "* N° de piso, si corresponde\n",
    "* Ambientes\n",
    "* URL en Properati\n",
    "* Descripción\n",
    "* Título\n",
    "* URL de un thumbnail de la primera foto\n",
    "\n",
    "---\n",
    "---"
   ]
  },
  {
   "cell_type": "markdown",
   "id": "feee8482",
   "metadata": {},
   "source": [
    "<a id=\"section_imports\"></a> \n",
    "**1.2. Imports**:\n",
    "\n",
    "[volver a TOC](#section_toc)"
   ]
  },
  {
   "cell_type": "code",
   "execution_count": 1,
   "id": "be03ff5e",
   "metadata": {},
   "outputs": [],
   "source": [
    "import pandas as pd\n",
    "import numpy as np\n",
    "from numpy import mean\n",
    "from numpy import median\n",
    "import matplotlib.pyplot as plt\n",
    "import re\n",
    "import seaborn as sns\n",
    "%matplotlib inline\n",
    "import plotly.express as px\n",
    "import chart_studio\n",
    "import chart_studio.plotly as py"
   ]
  },
  {
   "cell_type": "code",
   "execution_count": 2,
   "id": "4226f718",
   "metadata": {},
   "outputs": [
    {
     "data": {
      "text/plain": [
       "Unnamed: 0                      int64\n",
       "operation                      object\n",
       "property_type                  object\n",
       "place_name                     object\n",
       "place_with_parent_names        object\n",
       "country_name                   object\n",
       "state_name                     object\n",
       "geonames_id                   float64\n",
       "lat-lon                        object\n",
       "lat                           float64\n",
       "lon                           float64\n",
       "price                         float64\n",
       "currency                       object\n",
       "price_aprox_local_currency    float64\n",
       "price_aprox_usd               float64\n",
       "surface_total_in_m2           float64\n",
       "surface_covered_in_m2         float64\n",
       "price_usd_per_m2              float64\n",
       "price_per_m2                  float64\n",
       "floor                         float64\n",
       "rooms                         float64\n",
       "expenses                      float64\n",
       "properati_url                  object\n",
       "description                    object\n",
       "title                          object\n",
       "image_thumbnail                object\n",
       "dtype: object"
      ]
     },
     "execution_count": 2,
     "metadata": {},
     "output_type": "execute_result"
    }
   ],
   "source": [
    "data = pd.read_csv(\"Data/properatti.csv\")\n",
    "data.dtypes"
   ]
  },
  {
   "cell_type": "code",
   "execution_count": 3,
   "id": "78cea6b8",
   "metadata": {},
   "outputs": [
    {
     "data": {
      "text/html": [
       "<div>\n",
       "<style scoped>\n",
       "    .dataframe tbody tr th:only-of-type {\n",
       "        vertical-align: middle;\n",
       "    }\n",
       "\n",
       "    .dataframe tbody tr th {\n",
       "        vertical-align: top;\n",
       "    }\n",
       "\n",
       "    .dataframe thead th {\n",
       "        text-align: right;\n",
       "    }\n",
       "</style>\n",
       "<table border=\"1\" class=\"dataframe\">\n",
       "  <thead>\n",
       "    <tr style=\"text-align: right;\">\n",
       "      <th></th>\n",
       "      <th>Unnamed: 0</th>\n",
       "      <th>operation</th>\n",
       "      <th>property_type</th>\n",
       "      <th>place_name</th>\n",
       "      <th>place_with_parent_names</th>\n",
       "      <th>country_name</th>\n",
       "      <th>state_name</th>\n",
       "      <th>geonames_id</th>\n",
       "      <th>lat-lon</th>\n",
       "      <th>lat</th>\n",
       "      <th>lon</th>\n",
       "      <th>price</th>\n",
       "      <th>currency</th>\n",
       "      <th>price_aprox_local_currency</th>\n",
       "      <th>price_aprox_usd</th>\n",
       "      <th>surface_total_in_m2</th>\n",
       "      <th>surface_covered_in_m2</th>\n",
       "      <th>price_usd_per_m2</th>\n",
       "      <th>price_per_m2</th>\n",
       "      <th>floor</th>\n",
       "      <th>rooms</th>\n",
       "      <th>expenses</th>\n",
       "      <th>properati_url</th>\n",
       "      <th>description</th>\n",
       "      <th>title</th>\n",
       "      <th>image_thumbnail</th>\n",
       "    </tr>\n",
       "  </thead>\n",
       "  <tbody>\n",
       "    <tr>\n",
       "      <th>0</th>\n",
       "      <td>0</td>\n",
       "      <td>sell</td>\n",
       "      <td>PH</td>\n",
       "      <td>Mataderos</td>\n",
       "      <td>|Argentina|Capital Federal|Mataderos|</td>\n",
       "      <td>Argentina</td>\n",
       "      <td>Capital Federal</td>\n",
       "      <td>3430787.0</td>\n",
       "      <td>-34.6618237,-58.5088387</td>\n",
       "      <td>-34.661824</td>\n",
       "      <td>-58.508839</td>\n",
       "      <td>62000.0</td>\n",
       "      <td>USD</td>\n",
       "      <td>1093959.0</td>\n",
       "      <td>62000.0</td>\n",
       "      <td>55.0</td>\n",
       "      <td>40.0</td>\n",
       "      <td>1127.272727</td>\n",
       "      <td>1550.0</td>\n",
       "      <td>NaN</td>\n",
       "      <td>NaN</td>\n",
       "      <td>NaN</td>\n",
       "      <td>http://www.properati.com.ar/15bo8_venta_ph_mat...</td>\n",
       "      <td>2 AMBIENTES TIPO CASA PLANTA BAJA POR PASILLO,...</td>\n",
       "      <td>2 AMB TIPO CASA SIN EXPENSAS EN PB</td>\n",
       "      <td>https://thumbs4.properati.com/8/BluUYiHJLhgIIK...</td>\n",
       "    </tr>\n",
       "    <tr>\n",
       "      <th>1</th>\n",
       "      <td>1</td>\n",
       "      <td>sell</td>\n",
       "      <td>apartment</td>\n",
       "      <td>La Plata</td>\n",
       "      <td>|Argentina|Bs.As. G.B.A. Zona Sur|La Plata|</td>\n",
       "      <td>Argentina</td>\n",
       "      <td>Bs.As. G.B.A. Zona Sur</td>\n",
       "      <td>3432039.0</td>\n",
       "      <td>-34.9038831,-57.9643295</td>\n",
       "      <td>-34.903883</td>\n",
       "      <td>-57.964330</td>\n",
       "      <td>150000.0</td>\n",
       "      <td>USD</td>\n",
       "      <td>2646675.0</td>\n",
       "      <td>150000.0</td>\n",
       "      <td>NaN</td>\n",
       "      <td>NaN</td>\n",
       "      <td>NaN</td>\n",
       "      <td>NaN</td>\n",
       "      <td>NaN</td>\n",
       "      <td>NaN</td>\n",
       "      <td>NaN</td>\n",
       "      <td>http://www.properati.com.ar/15bob_venta_depart...</td>\n",
       "      <td>Venta de departamento en décimo piso al frente...</td>\n",
       "      <td>VENTA Depto 2 dorm. a estrenar 7 e/ 36 y 37   ...</td>\n",
       "      <td>https://thumbs4.properati.com/7/ikpVBu2ztHA7jv...</td>\n",
       "    </tr>\n",
       "  </tbody>\n",
       "</table>\n",
       "</div>"
      ],
      "text/plain": [
       "   Unnamed: 0 operation property_type place_name  \\\n",
       "0           0      sell            PH  Mataderos   \n",
       "1           1      sell     apartment   La Plata   \n",
       "\n",
       "                       place_with_parent_names country_name  \\\n",
       "0        |Argentina|Capital Federal|Mataderos|    Argentina   \n",
       "1  |Argentina|Bs.As. G.B.A. Zona Sur|La Plata|    Argentina   \n",
       "\n",
       "               state_name  geonames_id                  lat-lon        lat  \\\n",
       "0         Capital Federal    3430787.0  -34.6618237,-58.5088387 -34.661824   \n",
       "1  Bs.As. G.B.A. Zona Sur    3432039.0  -34.9038831,-57.9643295 -34.903883   \n",
       "\n",
       "         lon     price currency  price_aprox_local_currency  price_aprox_usd  \\\n",
       "0 -58.508839   62000.0      USD                   1093959.0          62000.0   \n",
       "1 -57.964330  150000.0      USD                   2646675.0         150000.0   \n",
       "\n",
       "   surface_total_in_m2  surface_covered_in_m2  price_usd_per_m2  price_per_m2  \\\n",
       "0                 55.0                   40.0       1127.272727        1550.0   \n",
       "1                  NaN                    NaN               NaN           NaN   \n",
       "\n",
       "   floor  rooms  expenses                                      properati_url  \\\n",
       "0    NaN    NaN       NaN  http://www.properati.com.ar/15bo8_venta_ph_mat...   \n",
       "1    NaN    NaN       NaN  http://www.properati.com.ar/15bob_venta_depart...   \n",
       "\n",
       "                                         description  \\\n",
       "0  2 AMBIENTES TIPO CASA PLANTA BAJA POR PASILLO,...   \n",
       "1  Venta de departamento en décimo piso al frente...   \n",
       "\n",
       "                                               title  \\\n",
       "0                 2 AMB TIPO CASA SIN EXPENSAS EN PB   \n",
       "1  VENTA Depto 2 dorm. a estrenar 7 e/ 36 y 37   ...   \n",
       "\n",
       "                                     image_thumbnail  \n",
       "0  https://thumbs4.properati.com/8/BluUYiHJLhgIIK...  \n",
       "1  https://thumbs4.properati.com/7/ikpVBu2ztHA7jv...  "
      ]
     },
     "execution_count": 3,
     "metadata": {},
     "output_type": "execute_result"
    }
   ],
   "source": [
    "pd.set_option('display.max_columns', None)\n",
    "data.head(2)"
   ]
  },
  {
   "cell_type": "markdown",
   "id": "6edfcf0e",
   "metadata": {},
   "source": [
    "**1.2. Elimino columnas:** eliminamos las columnas que no vamos a utilizar\n",
    "\n",
    "[volver a TOC](#section_toc)"
   ]
  },
  {
   "cell_type": "code",
   "execution_count": 4,
   "id": "52463b22",
   "metadata": {},
   "outputs": [],
   "source": [
    "data.drop(['Unnamed: 0','image_thumbnail','properati_url',], axis=1,inplace=True)"
   ]
  },
  {
   "cell_type": "markdown",
   "id": "76439b38",
   "metadata": {},
   "source": [
    "<a id=\"section_limpieza_datos\"></a> \n",
    "## 2. Limpieza de Datos\n",
    "\n",
    "[2.1. Columnas relacionadas con el precio: 'price', 'currency', 'price_aprox_local_currency' y 'price_aprox_usd'](#section_price)\n",
    "\n",
    "[2.2. Columnas relacionadas con la superficie: 'surface_total_in_m2' y 'surface_covered_in_m2'](#section_metros)\n",
    "\n",
    "[2.3. Columnas Rooms](#section_rooms)\n",
    "\n",
    "[2.4. Columnas Floor](#section_floor)\n",
    "\n",
    "[2.5. Columnas de precio por metro cuadrado](#section_price_per_m2)\n",
    "\n",
    "\n",
    "[volver a TOC](#section_toc)"
   ]
  },
  {
   "cell_type": "code",
   "execution_count": 5,
   "id": "0f117eb0",
   "metadata": {},
   "outputs": [
    {
     "data": {
      "text/plain": [
       "operation                     0.000000\n",
       "property_type                 0.000000\n",
       "place_name                    0.000190\n",
       "place_with_parent_names       0.000000\n",
       "country_name                  0.000000\n",
       "state_name                    0.000000\n",
       "geonames_id                   0.154405\n",
       "lat-lon                       0.425260\n",
       "lat                           0.425260\n",
       "lon                           0.425260\n",
       "price                         0.168372\n",
       "currency                      0.168380\n",
       "price_aprox_local_currency    0.168372\n",
       "price_aprox_usd               0.168372\n",
       "surface_total_in_m2           0.324435\n",
       "surface_covered_in_m2         0.164222\n",
       "price_usd_per_m2              0.433947\n",
       "price_per_m2                  0.276869\n",
       "floor                         0.934837\n",
       "rooms                         0.609058\n",
       "expenses                      0.882346\n",
       "description                   0.000016\n",
       "title                         0.000000\n",
       "dtype: float64"
      ]
     },
     "execution_count": 5,
     "metadata": {},
     "output_type": "execute_result"
    }
   ],
   "source": [
    "data.isnull().mean()"
   ]
  },
  {
   "cell_type": "markdown",
   "id": "74ed91af",
   "metadata": {},
   "source": [
    "  <a id=\"section_price\"></a> \n",
    "  \n",
    "**2.1. Precio y moneda**:\n",
    "\n",
    "[volver a TOC](#section_toc)"
   ]
  },
  {
   "cell_type": "markdown",
   "id": "480ece1d",
   "metadata": {},
   "source": [
    "Tiene aproximadamente un 17% de nulos. Intentaremos completar estos valores faltantes aplicando regexs a las columnas titulo y descripcion.\n",
    "En caso de encontrarlo, tambien actualizaremos los valores correspondientes a las columnas relacionadas (price_aprox_usd, price_aprox_local_currency y currency)"
   ]
  },
  {
   "cell_type": "code",
   "execution_count": 6,
   "id": "ae69e21f",
   "metadata": {},
   "outputs": [
    {
     "name": "stdout",
     "output_type": "stream",
     "text": [
      "121220\n",
      "20410\n",
      "0.1683715558488698\n"
     ]
    }
   ],
   "source": [
    "print(data['price'].shape[0])\n",
    "print(data['price'].isnull().sum())\n",
    "print(data['price'].isnull().mean())"
   ]
  },
  {
   "cell_type": "code",
   "execution_count": 7,
   "id": "136315e6",
   "metadata": {},
   "outputs": [
    {
     "name": "stdout",
     "output_type": "stream",
     "text": [
      "0.1472034317769345\n"
     ]
    }
   ],
   "source": [
    "pattern_precio = \"(?P<moneda>U\\$S|USD|U\\$D)\\s?(?P<precio>\\d+(([.]|,)\\d+)?)\"\n",
    "\n",
    "pattern_precio_regex = re.compile(pattern_precio,flags = re.IGNORECASE) #Perform case-insensitive matching\n",
    "\n",
    "desc_series = data['description']\n",
    "title_series = data['title']\n",
    "\n",
    "# Busco en description:\n",
    "rdo_precio_d = desc_series.apply(lambda x: x if x is np.NaN else pattern_precio_regex.search(x))\n",
    "precio_match_d=rdo_precio_d[rdo_precio_d.notnull()].apply(lambda x: x.group('precio') if x.group(4) is None else x.group('precio').replace(x.group(4) ,'')).astype(float)\n",
    "\n",
    "#le doy un min al valor obtenido porque muchos avisos solo incluian el precio de la cochera\n",
    "data.loc[precio_match_d[precio_match_d>30000].index,'price_usd_clean'] = precio_match_d[precio_match_d>30000]\n",
    "data.loc[precio_match_d[precio_match_d>30000].index,'price_clean'] = precio_match_d[precio_match_d>30000]\n",
    "\n",
    "# Busco en title:\n",
    "rdo_precio_t = title_series.apply(lambda x: x if x is np.NaN else pattern_precio_regex.search(x))\n",
    "precio_match_t=rdo_precio_t[rdo_precio_t.notnull()].apply(lambda x: x.group('precio') if x.group(4) is None else x.group('precio').replace(x.group(4) ,'')).astype(float)\n",
    "\n",
    "# le doy un min al valor obtenido porque muchos avisos solo incluian el precio de la cochera\n",
    "data.loc[precio_match_t[precio_match_t>30000].index,'price_usd_clean'] = precio_match_t[precio_match_t>30000]\n",
    "data.loc[precio_match_t[precio_match_t>30000].index,'price_clean'] = precio_match_t[precio_match_t>30000]\n",
    "\n",
    "# Completo la moneda para estos registros:\n",
    "data.loc[data['price_usd_clean'].notnull(),'currency_clean'] = 'USD'\n",
    "\n",
    "# Remplazo con la info de price y precio_usd:\n",
    "data.loc[(data['price_aprox_usd'].notnull()) & (data['price_aprox_usd'] != 0) ,'price_usd_clean'] = data.loc[(data['price_aprox_usd'].notnull()) & (data['price_aprox_usd'] != 0),'price_aprox_usd']\n",
    "data.loc[(data['price'].notnull()) & (data['price'] != 0) ,'price_clean'] = data.loc[(data['price'].notnull()) & (data['price'] != 0),'price']\n",
    "\n",
    "# Creo price_local_currency_clean:\n",
    "data['price_local_currency_clean'] = data['price_aprox_local_currency']\n",
    "\n",
    "data.loc[(data['price_aprox_local_currency'].isnull()) & (data['currency_clean'] == 'USD'),'price_local_currency_clean'] = data.loc[(data['price_aprox_local_currency'].isnull()) & (data['currency_clean'] == 'USD'),'price_usd_clean']*17.6445\n",
    "\n",
    "data.loc[data['currency'].notnull(),'currency_clean'] = data.loc[data['currency'].notnull(),'currency']\n",
    "# data.loc[data['price_usd_clean'].notnull(),['price','price_usd_clean']]\n",
    "# data[['precio','precio_usd_regex']].value_counts()\n",
    "print(data['price_clean'].isnull().mean())"
   ]
  },
  {
   "cell_type": "markdown",
   "id": "2f4eca36",
   "metadata": {},
   "source": [
    "Depues de aplicar regexs aun tenemos un 15% aprox. de nulos. Como la variable a estimar por el modelo es 'price_usd_per_m2' eliminaremos todos los nulls que no pudimos imputar"
   ]
  },
  {
   "cell_type": "code",
   "execution_count": 8,
   "id": "09227ede",
   "metadata": {},
   "outputs": [],
   "source": [
    "data.dropna(subset=['price_clean'],inplace=True) #estoy sacando tmb los 0 de price que eran nulos en price_clean\n",
    "desc_series = data['description']\n",
    "title_series = data['title']"
   ]
  },
  {
   "cell_type": "markdown",
   "id": "e391f2d7",
   "metadata": {},
   "source": [
    "Visualización final:"
   ]
  },
  {
   "cell_type": "code",
   "execution_count": 9,
   "id": "c457daa4",
   "metadata": {},
   "outputs": [],
   "source": [
    "# plt.figure(figsize =(12, 8))\n",
    "# sns.barplot(x = 'currency_clean', y = 'price_clean', hue = 'property_type', data = data, estimator=median, ci=None)\n",
    "# plt.ylim(0,3000000)"
   ]
  },
  {
   "cell_type": "markdown",
   "id": "b02f30ee",
   "metadata": {},
   "source": [
    "  <a id=\"section_metros\"></a> \n",
    "\n",
    "**2.2. Metros totales y cubiertos**:\n",
    "\n",
    "[volver a TOC](#section_toc)\n",
    "\n",
    "Ahora trabajaremos con las metricas relacionadas con la superficie. La columna surface_total_in_m2 tiene aproximadamente un 31% de nulls y surface_covered_in_m2 13%\n",
    "        \n"
   ]
  },
  {
   "cell_type": "code",
   "execution_count": 10,
   "id": "7a5ff3be",
   "metadata": {},
   "outputs": [
    {
     "name": "stdout",
     "output_type": "stream",
     "text": [
      "103376\n",
      "32301\n",
      "0.3124613062993345\n",
      "13254\n",
      "0.12821157715523912\n",
      "30149\n",
      "7703\n"
     ]
    }
   ],
   "source": [
    "print(data['price'].shape[0])\n",
    "print(data['surface_total_in_m2'].isnull().sum())\n",
    "print(data['surface_total_in_m2'].isnull().mean())\n",
    "print(data['surface_covered_in_m2'].isnull().sum())\n",
    "print(data['surface_covered_in_m2'].isnull().mean())\n",
    "#casos sin informacion en alguna de las dos variables:\n",
    "print(data.loc[np.logical_xor(data['surface_total_in_m2'].notnull(),data['surface_covered_in_m2'].notnull())].shape[0])\n",
    "#casos sin informacion tanto en surface_total_in_m2 como en surface_covered_in_m2:\n",
    "print(data.loc[(data['surface_total_in_m2'].isnull()) & (data['surface_covered_in_m2'].isnull())].shape[0])"
   ]
  },
  {
   "cell_type": "markdown",
   "id": "3c95c93f",
   "metadata": {},
   "source": [
    "Para los casos en los que alguno de los dos campos no es null, imputaremos el valor faltante en funcion del otro. Para eso calcularemos la proporcion media entre surface_total_in_m2 y surface_covered_in_m2 por tipo de propiedad: "
   ]
  },
  {
   "cell_type": "code",
   "execution_count": 11,
   "id": "316dc45e",
   "metadata": {},
   "outputs": [
    {
     "data": {
      "text/html": [
       "<div>\n",
       "<style scoped>\n",
       "    .dataframe tbody tr th:only-of-type {\n",
       "        vertical-align: middle;\n",
       "    }\n",
       "\n",
       "    .dataframe tbody tr th {\n",
       "        vertical-align: top;\n",
       "    }\n",
       "\n",
       "    .dataframe thead th {\n",
       "        text-align: right;\n",
       "    }\n",
       "</style>\n",
       "<table border=\"1\" class=\"dataframe\">\n",
       "  <thead>\n",
       "    <tr style=\"text-align: right;\">\n",
       "      <th></th>\n",
       "      <th>proporcion</th>\n",
       "    </tr>\n",
       "    <tr>\n",
       "      <th>property_type</th>\n",
       "      <th></th>\n",
       "    </tr>\n",
       "  </thead>\n",
       "  <tbody>\n",
       "    <tr>\n",
       "      <th>PH</th>\n",
       "      <td>0.805497</td>\n",
       "    </tr>\n",
       "    <tr>\n",
       "      <th>apartment</th>\n",
       "      <td>0.885888</td>\n",
       "    </tr>\n",
       "    <tr>\n",
       "      <th>house</th>\n",
       "      <td>0.683985</td>\n",
       "    </tr>\n",
       "    <tr>\n",
       "      <th>store</th>\n",
       "      <td>0.929577</td>\n",
       "    </tr>\n",
       "  </tbody>\n",
       "</table>\n",
       "</div>"
      ],
      "text/plain": [
       "               proporcion\n",
       "property_type            \n",
       "PH               0.805497\n",
       "apartment        0.885888\n",
       "house            0.683985\n",
       "store            0.929577"
      ]
     },
     "execution_count": 11,
     "metadata": {},
     "output_type": "execute_result"
    }
   ],
   "source": [
    "#primero corrijo los casos para los que la superficie total es menor que la cubierta suponiendo por los casos revisados que estan invertidos\n",
    "data_filled=data.loc[(data['surface_total_in_m2'].notnull()) & (data['surface_covered_in_m2'].notnull())].copy()\n",
    "data_filled['surface_total_in_m2_clean'] = data_filled.apply(lambda x: x['surface_covered_in_m2'] if x['surface_total_in_m2']<x['surface_covered_in_m2'] else x['surface_total_in_m2'],axis=1) \n",
    "data_filled['surface_covered_in_m2_clean'] = data_filled.apply(lambda x: x['surface_total_in_m2'] if x['surface_total_in_m2']<x['surface_covered_in_m2'] else x['surface_covered_in_m2'],axis=1)\n",
    "data_filled['proporcion']=data_filled['surface_covered_in_m2_clean']/ data_filled['surface_total_in_m2_clean']\n",
    "relacion_mts=data_filled.groupby('property_type').agg({'proporcion':'mean'})\n",
    "relacion_mts"
   ]
  },
  {
   "cell_type": "code",
   "execution_count": 12,
   "id": "9a27ec1b",
   "metadata": {},
   "outputs": [],
   "source": [
    "data_null_mts= data.loc[np.logical_xor(data['surface_total_in_m2'].notnull(),data['surface_covered_in_m2'].notnull())]\n",
    "data_null_mts2=data_null_mts.merge(right= relacion_mts, how='left',on='property_type').set_axis(data_null_mts.index)\n",
    "data_null_mts_tot=data_null_mts2.loc[data_null_mts2['surface_total_in_m2'].isnull(),['surface_covered_in_m2','proporcion']]\n",
    "data_null_mts_cub=data_null_mts2.loc[data_null_mts2['surface_covered_in_m2'].isnull(),['surface_total_in_m2','proporcion']]\n",
    "# Completo 'surface_total_in_m2_clean'\n",
    "data['surface_total_in_m2_clean']=data.apply(lambda x: x['surface_covered_in_m2'] if x['surface_total_in_m2']<x['surface_covered_in_m2'] else x['surface_total_in_m2'],axis=1)\n",
    "data.loc[data_null_mts_tot.index,'surface_total_in_m2_clean'] = data_null_mts_tot['surface_covered_in_m2']/data_null_mts_tot['proporcion']\n",
    "# Completo 'surface_covered_in_m2_clean'\n",
    "#data['surface_covered_in_m2_clean']=data['surface_covered_in_m2'] lo cambie!:\n",
    "data['surface_covered_in_m2_clean']=data.apply(lambda x: x['surface_total_in_m2'] if x['surface_total_in_m2']<x['surface_covered_in_m2'] else x['surface_covered_in_m2'],axis=1)\n",
    "data.loc[data_null_mts_cub.index,'surface_covered_in_m2_clean'] = data_null_mts_cub['surface_total_in_m2']*data_null_mts_cub['proporcion']"
   ]
  },
  {
   "cell_type": "markdown",
   "id": "42de21f0",
   "metadata": {},
   "source": [
    "  **2.2.2.** Para los casos en los que ambos valores son nulos utilizaremos regexs para extraer el dato de las columnas titulo y descripcion"
   ]
  },
  {
   "cell_type": "code",
   "execution_count": 13,
   "id": "9a803746",
   "metadata": {},
   "outputs": [
    {
     "data": {
      "text/plain": [
       "7703"
      ]
     },
     "execution_count": 13,
     "metadata": {},
     "output_type": "execute_result"
    }
   ],
   "source": [
    "null_mts_cubytot=data.loc[(data['surface_total_in_m2'].isnull()) & (data['surface_covered_in_m2'].isnull())]\n",
    "data.loc[(data['surface_total_in_m2'].isnull()) & (data['surface_covered_in_m2'].isnull())].shape[0]"
   ]
  },
  {
   "cell_type": "code",
   "execution_count": 14,
   "id": "19970c53",
   "metadata": {},
   "outputs": [],
   "source": [
    "# comienzo con la regex mas general y depues voy reemplazando los casos en los que puedo identificar si es total o cubierta\n",
    "pattern_mts ='(?P<metros>\\d\\d+(([.]|,)\\d+)?)(\\s)?(m2|metros|metros2|mts2|mt2|m²|mts²|mts|superficie)'\n",
    "pattern_mts_regex = re.compile(pattern_mts,flags = re.IGNORECASE) #Perform case-insensitive matching\n",
    "\n",
    "# Busco en description:\n",
    "rdo_mts_d = desc_series.apply(lambda x: x if x is np.NaN else pattern_mts_regex.search(x))\n",
    "\n",
    "mts_match_d=rdo_mts_d[rdo_mts_d.notnull()].apply(lambda x: x if x is np.NaN else x.group('metros').replace(',','.')).astype(float).round()\n",
    "data.loc[mts_match_d.index,'surface_total_in_m2_regex'] = mts_match_d\n",
    "data.loc[mts_match_d.index,'surface_covered_in_m2_regex'] = mts_match_d\n",
    "# Busco en title:\n",
    "rdo_mts_t = title_series.apply(lambda x: x if x is np.NaN else pattern_mts_regex.search(x))\n",
    "mts_match_t=rdo_mts_t[rdo_mts_t.notnull()].apply(lambda x: x if x is np.NaN else x.group('metros').replace(',','.')).astype(float).round()\n",
    "data.loc[mts_match_t.index,'surface_total_in_m2_regex'] = mts_match_t\n",
    "data.loc[mts_match_t.index,'surface_covered_in_m2_regex'] = mts_match_t"
   ]
  },
  {
   "cell_type": "markdown",
   "id": "a77aab35",
   "metadata": {},
   "source": [
    "Metros Cubiertos:"
   ]
  },
  {
   "cell_type": "code",
   "execution_count": 15,
   "id": "d37d657c",
   "metadata": {},
   "outputs": [],
   "source": [
    "pattern_mtscub = \"(?<!\\d)(m2|metros|metros2|mts2|mt2|m²|mts²|mts|m|mt|sup|superficie|m2superficie|m2 superficie|m2 sup|m2sup)\\s?[.]?\\s?(cub|cubierta|cubierto|cubiertos)(\\s?(:|[.])?\\s?)(?P<metros>\\d\\d+(([.]|,)\\d+)?)\"\n",
    "\n",
    "pattern_mtscub_regex = re.compile(pattern_mtscub,flags = re.IGNORECASE) #Perform case-insensitive matching\n",
    "\n",
    "# Busco en description:\n",
    "rdo_mtscub_d = desc_series.apply(lambda x: x if x is np.NaN else pattern_mtscub_regex.search(x))\n",
    "mtscub_match_d=rdo_mtscub_d[rdo_mtscub_d.notnull()].apply(lambda x: x if x is np.NaN else x.group('metros').replace(',','.')).astype(float).round()\n",
    "data.loc[mtscub_match_d.index,'surface_covered_in_m2_regex'] = mtscub_match_d\n",
    "\n",
    "# Busco en title:\n",
    "rdo_mtscub_t = title_series.apply(lambda x: x if x is np.NaN else pattern_mtscub_regex.search(x))\n",
    "mtscub_match_t=rdo_mtscub_t[rdo_mtscub_t.notnull()].apply(lambda x: x if x is np.NaN else x.group('metros').replace(',','.')).astype(float).round()\n",
    "data.loc[mtscub_match_t.index,'surface_covered_in_m2_regex'] = mtscub_match_t\n",
    "\n",
    "# data['surface_covered_in_m2_regex'].value_counts()"
   ]
  },
  {
   "cell_type": "code",
   "execution_count": 16,
   "id": "b410bda1",
   "metadata": {},
   "outputs": [],
   "source": [
    "pattern_mtscub_v1 = '(?P<metros>\\d\\d+(([.]|,)\\d+)?)(\\s)?(m2|metros|metros2|mts2|m²|mts²|mt2|mts|m|mt|sup|superficie|m2superficie|m2 superficie|m2 sup|m2sup)\\s?[.]?\\s?(cub|cubierta|cubierto|cubiertos)'\n",
    "\n",
    "pattern_mtscub_regex_v1 = re.compile(pattern_mtscub_v1,flags = re.IGNORECASE) #Perform case-insensitive matching\n",
    "\n",
    "# Busco en description:\n",
    "rdo_mtscub_d_v1 = desc_series.apply(lambda x: x if x is np.NaN else pattern_mtscub_regex_v1.search(x))\n",
    "mtscub_match_d_v1=rdo_mtscub_d_v1[rdo_mtscub_d_v1.notnull()].apply(lambda x: x if x is np.NaN else x.group('metros').replace(',','.')).astype(float).round()\n",
    "data.loc[mtscub_match_d_v1.index,'surface_covered_in_m2_regex'] = mtscub_match_d_v1\n",
    "\n",
    "# Busco en title:\n",
    "rdo_mtscub_t_v1 = title_series.apply(lambda x: x if x is np.NaN else pattern_mtscub_regex_v1.search(x))\n",
    "mtscub_match_t_v1=rdo_mtscub_t_v1[rdo_mtscub_t_v1.notnull()].apply(lambda x: x if x is np.NaN else x.group('metros').replace(',','.')).astype(float).round()\n",
    "data.loc[mtscub_match_t_v1.index,'surface_covered_in_m2_regex'] = mtscub_match_t_v1\n",
    "#data['surface_covered_in_m2_regex'].value_counts()\n",
    "\n",
    "# Incorporo estos valores para sacar los nulos de 'surface_covered_in_m2_clean'\n",
    "data.loc[data['surface_covered_in_m2_clean'].isnull(),'surface_covered_in_m2_clean'] = data.loc[data['surface_covered_in_m2_clean'].isnull(),'surface_covered_in_m2_regex']\n",
    "\n",
    "#data['surface_covered_in_m2_clean'].isnull().sum() #19907\n",
    "# data.loc[(data['surface_covered_in_m2'].isnull()) & (data['surface_covered_in_m2_regex'].notnull()),['surface_covered_in_m2_regex','surface_covered_in_m2']]"
   ]
  },
  {
   "cell_type": "markdown",
   "id": "162ab3b0",
   "metadata": {},
   "source": [
    "Metros Totales:"
   ]
  },
  {
   "cell_type": "code",
   "execution_count": 17,
   "id": "fe69fab8",
   "metadata": {},
   "outputs": [],
   "source": [
    "pattern_mtstot = \"(?<!\\d)(m2|metros|metros2|mts2|mt2|m²|mts²|mts|m|mt|sup|superficie|m2superficie|m2 superficie|m2 sup|m2sup)\\s?[.]?\\s?(tot|total|totales|de la propiedad|propiedad)(\\s?(:|[.])?\\s?)(?P<metros>\\d\\d+(([.]|,)\\d+)?)\"\n",
    "\n",
    "pattern_mtstot_regex = re.compile(pattern_mtstot,flags = re.IGNORECASE) #Perform case-insensitive matching\n",
    "\n",
    "# Busco en description:\n",
    "rdo_mtstot_d = desc_series.apply(lambda x: x if x is np.NaN else pattern_mtstot_regex.search(x))\n",
    "mtstot_match_d=rdo_mtstot_d[rdo_mtstot_d.notnull()].apply(lambda x: x if x is np.NaN else x.group('metros').replace(',','.')).astype(float).round()\n",
    "data.loc[mtstot_match_d.index,'surface_total_in_m2_regex'] = mtstot_match_d\n",
    "\n",
    "# Busco en title:\n",
    "rdo_mtstot_t = title_series.apply(lambda x: x if x is np.NaN else pattern_mtstot_regex.search(x))\n",
    "mtstot_match_t=rdo_mtstot_t[rdo_mtstot_t.notnull()].apply(lambda x: x if x is np.NaN else x.group('metros').replace(',','.')).astype(float).round()\n",
    "data.loc[mtstot_match_t.index,'surface_total_in_m2_regex'] = mtstot_match_t\n",
    "\n",
    "# data['surface_total_in_m2_regex'].value_counts()"
   ]
  },
  {
   "cell_type": "code",
   "execution_count": 18,
   "id": "db0fcafa",
   "metadata": {},
   "outputs": [],
   "source": [
    "pattern_mtstot_v1 ='(?P<metros>\\d\\d+(([.]|,)\\d+)?)(\\s)?(m2|metros|metros2|mts2|mt2|m²|mts²|mts|m|mt|sup|superficie|m2superficie|m2 superficie|m2 sup|m2sup)\\s?[.]?\\s?(tot|total|totales|de la propiedad|propiedad)'\n",
    "pattern_mtstot_regex_v1 = re.compile(pattern_mtstot_v1,flags = re.IGNORECASE) #Perform case-insensitive matching\n",
    "\n",
    "# Busco en description:\n",
    "rdo_mtstot_d_v1 = desc_series.apply(lambda x: x if x is np.NaN else pattern_mtstot_regex_v1.search(x))\n",
    "mtstot_match_d_v1=rdo_mtstot_d_v1[rdo_mtstot_d_v1.notnull()].apply(lambda x: x if x is np.NaN else x.group('metros').replace(',','.')).astype(float).round()\n",
    "data.loc[mtstot_match_d_v1.index,'surface_total_in_m2_regex'] = mtstot_match_d_v1\n",
    "\n",
    "# Busco en title:\n",
    "rdo_mtstot_t_v1 = title_series.apply(lambda x: x if x is np.NaN else pattern_mtstot_regex_v1.search(x))\n",
    "mtstot_match_t_v1=rdo_mtstot_t_v1[rdo_mtstot_t_v1.notnull()].apply(lambda x: x if x is np.NaN else x.group('metros').replace(',','.')).astype(float).round()\n",
    "data.loc[mtstot_match_t_v1.index,'surface_total_in_m2_regex'] = mtstot_match_t_v1\n",
    "\n",
    "# data['surface_total_in_m2_regex'].value_counts()\n",
    "# data.loc[(data['surface_total_in_m2'].isnull()) & (data['surface_total_in_m2_regex'].notnull()),['surface_total_in_m2_regex','surface_total_in_m2']]\n",
    "# Incorporo estos valores para salcar los nulos de 'surface_total_in_m2_clean'\n",
    "data.loc[data['surface_total_in_m2_clean'].isnull(),'surface_total_in_m2_clean'] = data.loc[data['surface_total_in_m2_clean'].isnull(),'surface_total_in_m2_regex']\n",
    "\n",
    "# data['surface_total_in_m2_clean'].isnull().sum() \n"
   ]
  },
  {
   "cell_type": "code",
   "execution_count": 19,
   "id": "58029057",
   "metadata": {},
   "outputs": [],
   "source": [
    "# Corrijo algunos casos donde la cubierta queda mayor que la total\n",
    "data['surface_total_in_m2_clean'] = data.apply(lambda x: x['surface_covered_in_m2_clean'] if x['surface_total_in_m2_clean']<x['surface_covered_in_m2_clean'] else x['surface_total_in_m2_clean'],axis=1)"
   ]
  },
  {
   "cell_type": "code",
   "execution_count": 20,
   "id": "e80542d3",
   "metadata": {},
   "outputs": [],
   "source": [
    "# data['surface_total_in_m2_clean'].isnull().sum()\n",
    "# data['surface_covered_in_m2_clean'].isnull().sum()\n",
    "data.dropna(subset=['surface_total_in_m2_clean'],inplace=True) \n",
    "data.dropna(subset=['surface_covered_in_m2_clean'],inplace=True)\n",
    "desc_series = data['description']\n",
    "title_series = data['title']"
   ]
  },
  {
   "cell_type": "markdown",
   "id": "002710d4",
   "metadata": {},
   "source": [
    "  <a id=\"section_rooms\"></a> \n",
    "\n",
    "**2.3. Rooms**:\n",
    "\n",
    "[volver a TOC](#section_toc)\n",
    "\n",
    "Tiene casi 60 % de nulos. Utilizaremos regexs para extraer el dato de las columnas titulo y descripcion.\n",
    "\n"
   ]
  },
  {
   "cell_type": "code",
   "execution_count": 21,
   "id": "9472f16c",
   "metadata": {},
   "outputs": [
    {
     "name": "stdout",
     "output_type": "stream",
     "text": [
      "57173\n",
      "0.5868471834455575\n"
     ]
    }
   ],
   "source": [
    "print(data['rooms'].isnull().sum())\n",
    "print(data['rooms'].isnull().mean())"
   ]
  },
  {
   "cell_type": "code",
   "execution_count": 22,
   "id": "32dea20b",
   "metadata": {},
   "outputs": [],
   "source": [
    "pattern_rooms = \"(?P<numero_rooms>\\d+)\\s?(hab|dor)\"\n",
    "\n",
    "pattern_rooms_regex = re.compile(pattern_rooms,flags = re.IGNORECASE) #Perform case-insensitive matching\n",
    "\n",
    "# Busco en description\n",
    "rdo_rooms = desc_series.apply(lambda x: x if x is np.NaN else pattern_rooms_regex.search(x))\n",
    "#resultado_rooms2[resultado_rooms2.notnull()]\n",
    "rooms_match=rdo_rooms[rdo_rooms.notnull()].apply(lambda x: x if x is np.NaN else int(x.group('numero_rooms')))\n",
    "rooms_match_desc=rooms_match[(rooms_match>0) & (rooms_match<16)]\n",
    "# rooms_match_desc.value_counts()  \n",
    "\n",
    "data.loc[rooms_match_desc.index,'rooms_regex'] = rooms_match_desc\n",
    "# data[['rooms','rooms_regex1']].value_counts()\n",
    "# data[(data['rooms'].isnull()) & (data['rooms_regex'].notnull())]['rooms_regex'].shape # arreglo 26052\n",
    "\n",
    "# Busco en title\n",
    "rdo_rooms_v1 = title_series.apply(lambda x: x if x is np.NaN else pattern_rooms_regex.search(x))\n",
    "\n",
    "rooms_match_v1=rdo_rooms_v1[rdo_rooms_v1.notnull()].apply(lambda x: x if x is np.NaN else int(x.group('numero_rooms')))\n",
    "rooms_match_desc_V1=rooms_match_v1[(rooms_match_v1>0) & (rooms_match_v1<16)]\n",
    "\n",
    "# rooms_match_desc_V1.value_counts()   \n",
    "data.loc[rooms_match_desc_V1.index,'rooms_regex'] = rooms_match_desc_V1\n",
    "# data[(data['rooms'].isnull()) & (data['rooms_regex'].notnull())]['rooms_regex'].shape # arreglo 27153"
   ]
  },
  {
   "cell_type": "code",
   "execution_count": 23,
   "id": "36e36234",
   "metadata": {},
   "outputs": [],
   "source": [
    "pattern_rooms_v2 = \"(?P<numero_rooms>(un|una|dos|tres|cuatro|cinco|seis|siete|ocho|nueve))\\s?(hab|dor)\"\n",
    "pattern_rooms_regex_v2 = re.compile(pattern_rooms_v2,flags = re.IGNORECASE) #Perform case-insensitive matching\n",
    "\n",
    "# Busco en description\n",
    "rdo_rooms_v2 = desc_series.apply(lambda x: x if x is np.NaN else pattern_rooms_regex_v2.search(x))\n",
    "rooms_match_v2=rdo_rooms_v2[rdo_rooms_v2.notnull()].apply(lambda x: x if x is np.NaN else (x.group('numero_rooms')).lower())\n",
    "\n",
    "rooms_match_desc_v2= rooms_match_v2.replace({'un': 1,'una': 1 ,'dos': 2,'tres': 3,'cuatro': 4,'cinco': 5,'seis': 6,'siete': 7,'ocho': 8,'nueve': 9}).astype(int)\n",
    "# rooms_match_desc_v2[rooms_match_v2.notnull()].value_counts()\n",
    "data.loc[rooms_match_desc_v2.index,'rooms_regex'] = rooms_match_desc_v2\n",
    "# data[data['rooms'].isnull() & data['rooms_regex'].notnull()]['rooms_regex'].shape # arreglo 41272\n",
    "\n",
    "# Busco en title\n",
    "rdo_rooms_v3 = title_series.apply(lambda x: x if x is np.NaN else pattern_rooms_regex_v2.search(x))\n",
    "rooms_match_v3=rdo_rooms_v3[rdo_rooms_v3.notnull()].apply(lambda x: x if x is np.NaN else (x.group('numero_rooms')).lower())\n",
    "\n",
    "rooms_match_desc_v3= rooms_match_v3.replace({'un': 1,'una': 1 ,'dos': 2,'tres': 3,'cuatro': 4,'cinco': 5,'seis': 6,'siete': 7,'ocho': 8,'nueve': 9}).astype(int)\n",
    "#rooms_match_desc_v3[rooms_match_v3.notnull()].value_counts()\n",
    "data.loc[rooms_match_desc_v3.index,'rooms_regex'] = rooms_match_desc_v3\n",
    "\n",
    "#data[(data['rooms'].isnull()) & (data['rooms_regex'].isnull())]['rooms_regex'].shape # arreglo faltan 32423\n",
    "#data['rooms'].isnull().shape #121220"
   ]
  },
  {
   "cell_type": "code",
   "execution_count": 24,
   "id": "c96395f4",
   "metadata": {},
   "outputs": [],
   "source": [
    "# armo regexs con la referencia ambientes\n",
    "pattern_ambientes = \"(?P<numero_amb>\\d+)\\s?(amb)\"\n",
    "\n",
    "pattern_ambientes_regex = re.compile(pattern_ambientes,flags = re.IGNORECASE) #Perform case-insensitive matching\n",
    "\n",
    "# Busco en description\n",
    "rdo_amb = desc_series.apply(lambda x: x if x is np.NaN else pattern_ambientes_regex.search(x))\n",
    "\n",
    "amb_match=rdo_amb[rdo_amb.notnull()].apply(lambda x: x if x is np.NaN else (int(x.group('numero_amb'))-1))\n",
    "data.loc[amb_match.index,'rooms_regex'] = amb_match        \n",
    "# data[(data['rooms'].isnull()) & (data['rooms_regex'].isnull())]['rooms_regex'].shape # arreglo faltan 21439\n",
    "\n",
    "# Busco en title\n",
    "rdo_amb_v1 = title_series.apply(lambda x: x if x is np.NaN else pattern_ambientes_regex.search(x))\n",
    "\n",
    "amb_match_v1=rdo_amb_v1[rdo_amb_v1.notnull()].apply(lambda x: x if x is np.NaN else (int(x.group('numero_amb'))-1))\n",
    "data.loc[amb_match_v1.index,'rooms_regex'] = amb_match_v1\n",
    "# data[(data['rooms'].isnull()) & (data['rooms_regex'].isnull())]['rooms_regex'].shape # arreglo faltan 20283\n"
   ]
  },
  {
   "cell_type": "code",
   "execution_count": 25,
   "id": "9bbae584",
   "metadata": {},
   "outputs": [],
   "source": [
    "# armo regexs con la referencia ambientes\n",
    "pattern_ambientes_v2 = \"(?P<numero_amb>(un|dos|tres|cuatro|cinco|seis|siete|ocho|nueve|diez))\\s?(amb)\"\n",
    "\n",
    "pattern_ambientes_regex_v2 = re.compile(pattern_ambientes_v2,flags = re.IGNORECASE) #Perform case-insensitive matching\n",
    "\n",
    "# Busco en description\n",
    "rdo_amb_v3 = desc_series.apply(lambda x: x if x is np.NaN else pattern_ambientes_regex_v2.search(x))\n",
    "#rdo_amb_v3[rdo_amb_v3.notnull()]\n",
    "#no me funciona!!: amb_match_v3=rdo_amb_v3[rdo_amb_v3.notnull()].apply(lambda x: x if x is np.NaN else (x.group('numero_amb').lower().replace({'un': 1,'dos': 2,'tres': 3,'cuatro': 4,'cinco': 5,'seis': 6}).astype(int))\n",
    "amb_match_v3=rdo_amb_v3[rdo_amb_v3.notnull()].apply(lambda x: x if x is np.NaN else (x.group('numero_amb').lower()))\n",
    "data.loc[amb_match_v3.index,'rooms_regex'] = ((amb_match_v3.replace({'un': 1,'dos': 2,'tres': 3,'cuatro': 4,'cinco': 5,'seis': 6,'siete': 7,'ocho': 8,'nueve': 9,'diez': 10}).astype(int))-1 )\n",
    "\n",
    "# Busco en title\n",
    "rdo_amb_v4 = title_series.apply(lambda x: x if x is np.NaN else pattern_ambientes_regex_v2.search(x))\n",
    "\n",
    "amb_match_v4=rdo_amb_v4[rdo_amb_v4.notnull()].apply(lambda x: x if x is np.NaN else (x.group('numero_amb').lower()))\n",
    "data.loc[amb_match_v4.index,'rooms_regex'] = ((amb_match_v4.replace({'un': 1,'dos': 2,'tres': 3,'cuatro': 4,'cinco': 5,'seis': 6,'siete': 7,'ocho': 8,'nueve': 9,'diez': 10}).astype(int))-1 )\n",
    "# data[data['rooms_regex'].isnull() & data['rooms'].isnull()].shape"
   ]
  },
  {
   "cell_type": "code",
   "execution_count": 26,
   "id": "9d9b8b70",
   "metadata": {},
   "outputs": [],
   "source": [
    "# armo regexs con la referencia ambientes\n",
    "pattern_ambientes_v3 = \"(?P<numero_amb>(ambiente divisible|monoamb|ambiente unico|unico ambiente))\"\n",
    "\n",
    "pattern_ambientes_regex_v3 = re.compile(pattern_ambientes_v3,flags = re.IGNORECASE) #Perform case-insensitive matching\n",
    "\n",
    "# Busco en description\n",
    "rdo_amb_v5 = desc_series.apply(lambda x: x if x is np.NaN else pattern_ambientes_regex_v3.search(x))\n",
    "\n",
    "amb_match_v5=rdo_amb_v5[rdo_amb_v5.notnull()].apply(lambda x: x if x is np.NaN else 0)\n",
    "data.loc[amb_match_v5.index,'rooms_regex'] = amb_match_v5.astype(int)\n",
    "\n",
    "# Busco pattern_ambientes_v3 en title \n",
    "rdo_amb_v6 = title_series.apply(lambda x: x if x is np.NaN else pattern_ambientes_regex_v3.search(x))\n",
    "\n",
    "amb_match_v6=rdo_amb_v6[rdo_amb_v6.notnull()].apply(lambda x: x if x is np.NaN else 0)\n",
    "data.loc[amb_match_v6.index,'rooms_regex'] = amb_match_v6.astype(int)"
   ]
  },
  {
   "cell_type": "code",
   "execution_count": 27,
   "id": "55a88650",
   "metadata": {},
   "outputs": [],
   "source": [
    "# Lo que cargan en el campo rooms son en gral los ambientes y la imputacion mediante busqueda de patrones es mas confiable que la de dormitorios\n",
    "# Por lo tanto, para los nulls, buscamos patrones de dormitorios y luego los reemplazamos por los de ambientes en caso de que esten\n",
    "data['ambientes'] = data['rooms']\n",
    "data['ambientes_regex'] = data['rooms_regex']+1\n",
    "data.loc[(data['ambientes'].isnull()) & (data['rooms_regex'].notnull()),'ambientes']=data.loc[(data['ambientes'].isnull()) & (data['rooms_regex'].notnull()),'ambientes_regex']"
   ]
  },
  {
   "cell_type": "markdown",
   "id": "f4d01cbd",
   "metadata": {},
   "source": [
    "Visualización final:"
   ]
  },
  {
   "cell_type": "code",
   "execution_count": 28,
   "id": "841afeb0",
   "metadata": {},
   "outputs": [],
   "source": [
    "# plt.figure(figsize =(8, 15))\n",
    "# sns.barplot(y = 'state_name', x = 'ambientes', hue = 'property_type', data = data, ci=None)\n",
    "# plt.xlim(0,20)"
   ]
  },
  {
   "cell_type": "markdown",
   "id": "c5c51363",
   "metadata": {},
   "source": [
    "##### **2.4. Columna floor** <a name=\"section_floor\"></a>"
   ]
  },
  {
   "cell_type": "code",
   "execution_count": 29,
   "id": "ec68ac42",
   "metadata": {},
   "outputs": [],
   "source": [
    "#obtenemos serie de col 'description' para departamentos\n",
    "# empezamos con 64544 registros\n",
    "depto_mask = data['property_type']=='apartment'\n",
    "null_floor_mask = data['floor'].isnull()\n",
    "depto_null_floor_mask = np.logical_and(depto_mask,null_floor_mask)\n",
    "pisos_depto = data.loc[depto_null_floor_mask,['description']]\n",
    "pisos_depto_txt = pisos_depto['description']"
   ]
  },
  {
   "cell_type": "code",
   "execution_count": 30,
   "id": "2f71a9d3",
   "metadata": {},
   "outputs": [],
   "source": [
    "# regex ordinales abreviados\n",
    "pat_ord_abv = \"(?P<piso_ord>\\d\\d?\\s?(er|do|to|mo|vo|no|ero)\\.?\\s*piso)\"\n",
    "rx_ord_abv = re.compile(pat_ord_abv, flags=re.IGNORECASE)\n",
    "resultado_ord_abv = pisos_depto_txt.apply(lambda x: rx_ord_abv.search(str(x)))\n",
    "match_ord_abv = resultado_ord_abv.apply(lambda x : x if x is None else x.group('piso_ord'))\n",
    "ord_abv_not_null_mask = match_ord_abv.notnull()\n",
    "full_ord_abv = match_ord_abv[ord_abv_not_null_mask]\n",
    "pat_nro_piso = \"(?P<piso_nro>\\d\\d?)\"\n",
    "rx_nro_piso = re.compile(pat_nro_piso, flags=re.IGNORECASE)\n",
    "resultado_nro_piso = full_ord_abv.apply(lambda x: rx_nro_piso.search(x))\n",
    "#RESULTADO regex ordinales abreviados\n",
    "match_nro_piso = resultado_nro_piso.apply(lambda x : x if x is None else x.group('piso_nro'))\n",
    "#borramos los registros ya tratados\n",
    "pisos_depto_txt = pisos_depto_txt.drop(match_nro_piso.index)"
   ]
  },
  {
   "cell_type": "code",
   "execution_count": 31,
   "id": "2682a342",
   "metadata": {},
   "outputs": [],
   "source": [
    "# regex ordinales en palabras\n",
    "pat_ord_ext =\"(?P<piso_ord_ext>primero|primer|segundo|tercero|tercer|cuarto|quinto|sexto|septimo|séptimo|octavo|noveno|decimo|décimo|undécimo|undecimo)\\s?piso\"\n",
    "rx_ord_ext = re.compile(pat_ord_ext,flags=re.IGNORECASE)\n",
    "resultado_ord_ext= pisos_depto_txt.apply(lambda x: x if x is None else rx_ord_ext.search(str(x)))\n",
    "match_ord_ext = resultado_ord_ext.apply(lambda x : x if x is None else x.group('piso_ord_ext'))\n",
    "match_ord_ext_not_null = match_ord_ext.notnull()\n",
    "ord_ext_full = match_ord_ext[match_ord_ext_not_null]\n",
    "#llevamos todo a minuscula\n",
    "ordinal_extendido = ord_ext_full.apply(lambda x: str(x).lower()) \n",
    "#replace de palabras por nro de piso usamos dict\n",
    "valores_viejos = ordinal_extendido.unique()\n",
    "valores_nuevos = np.array([10,1,2,4,7,3,10,5,6,9,8,7,3,1])\n",
    "mapping = dict(zip(valores_viejos, valores_nuevos))\n",
    "#hacemos el replace\n",
    "#RESULTADO regex ordinales extendidos\n",
    "ordinal_dict = ordinal_extendido.replace(mapping)\n",
    "ordinal_dict.head()\n",
    "#quitamos los registros ya tratados\n",
    "pisos_depto_txt = pisos_depto_txt.drop(ordinal_dict.index)"
   ]
  },
  {
   "cell_type": "code",
   "execution_count": 32,
   "id": "5375c9b3",
   "metadata": {},
   "outputs": [],
   "source": [
    "#regex piso número\n",
    "pat_piso_num =\"(?P<piso_num>piso\\s*\\d?\\d)\"\n",
    "rx_piso_num = re.compile(pat_piso_num,flags=re.IGNORECASE)\n",
    "resultado_piso_num= pisos_depto_txt.apply(lambda x: x if x is None else rx_piso_num.search(str(x)))\n",
    "match_piso_num = resultado_piso_num.apply(lambda x : x if x is None else x.group('piso_num'))\n",
    "match_piso_num_mask = match_piso_num.notnull()\n",
    "match_piso_full = match_piso_num[match_piso_num_mask]\n",
    "match_piso_full=match_piso_full.drop(index=121160)\n",
    "match_piso_full=match_piso_full.drop(index=121209)\n",
    "#RESULTADO regex piso número\n",
    "resultado_piso_num = match_piso_full.apply(lambda x: rx_nro_piso.search(x))\n",
    "match_piso_num = resultado_piso_num.apply(lambda x : x if x is None else x.group('piso_nro'))\n",
    "#quitamos los registros ya tratados\n",
    "pisos_depto_txt = pisos_depto_txt.drop(match_piso_num.index)"
   ]
  },
  {
   "cell_type": "code",
   "execution_count": 33,
   "id": "972ae9d8",
   "metadata": {},
   "outputs": [],
   "source": [
    "# regex numéricas en palabras\n",
    "pat_num_ext = \"(piso\\s*(?P<piso_num_ext>uno|dos|tres|cuatro|cinco|seis|siete|ocho|nueve|diez|once|doce|trece|catorce|quince|dieciseis|dieciséis|diecisiete|dieciocho|diecinueve|veinte))\"\n",
    "rx_num_ext = re.compile(pat_num_ext,flags=re.IGNORECASE)\n",
    "resultado_num_ext= pisos_depto_txt.apply(lambda x: x if x is None else rx_num_ext.search(str(x)))\n",
    "match_num_ext = resultado_num_ext.apply(lambda x : x if x is None else x.group('piso_num_ext'))\n",
    "match_num_ext_not_null = match_num_ext.notnull()\n",
    "num_ext_full = match_num_ext[match_num_ext_not_null]\n",
    "#llevamos todo a minuscula\n",
    "num_extendido = num_ext_full.apply(lambda x: str(x).lower()) \n",
    "#replace de palabras por nro de piso usamos dict\n",
    "valores_viejos = num_extendido.unique()\n",
    "valores_viejos\n",
    "valores_nuevos = np.array([7,3,2,13,9,4,11,10,12,8])\n",
    "mapping = dict(zip(valores_viejos, valores_nuevos))\n",
    "#hacemos el replace\n",
    "#RESULTADO regex números extendidos\n",
    "num_dict = num_extendido.replace(mapping)\n",
    "#quitamos los registros ya tratados\n",
    "pisos_depto_txt = pisos_depto_txt.drop(num_dict.index)"
   ]
  },
  {
   "cell_type": "code",
   "execution_count": 34,
   "id": "97bbdb03",
   "metadata": {},
   "outputs": [],
   "source": [
    "#regex grado piso\n",
    "pat_grado = \"(?P<piso_grado>(\\s|\\D)[0-9]{1,2}\\s*(°|º)\\s*(piso))\"\n",
    "rx_grado = re.compile(pat_grado,flags=re.IGNORECASE)\n",
    "resultado_grado= pisos_depto_txt.apply(lambda x: x if x is None else rx_grado.search(str(x)))\n",
    "match_grado = resultado_grado.apply(lambda x : x if x is None else x.group('piso_grado'))\n",
    "match_grado_not_null = match_grado.notnull()\n",
    "grado_full = match_grado[match_grado_not_null]\n",
    "#RESULTADO regex piso grado\n",
    "num_piso_grado = grado_full.apply(lambda x: rx_nro_piso.search(x))\n",
    "match_piso_grado = num_piso_grado.apply(lambda x : x if x is None else x.group('piso_nro'))\n",
    "#quitamos los registros ya tratados\n",
    "pisos_depto_txt = pisos_depto_txt.drop(match_piso_grado.index)"
   ]
  },
  {
   "cell_type": "code",
   "execution_count": 35,
   "id": "8c48744e",
   "metadata": {},
   "outputs": [],
   "source": [
    "#regex planta baja\n",
    "pat_pb = \"(?P<planta_baja>(en |ubicado en )(planta\\s*baja|pta\\.?\\s*baja))\"\n",
    "rx_pb = re.compile(pat_pb,flags=re.IGNORECASE)\n",
    "resultado_pb= pisos_depto_txt.apply(lambda x: x if x is None else rx_pb.search(str(x)))\n",
    "match_pb= resultado_pb.apply(lambda x : x if x is None else x.group('planta_baja'))\n",
    "match_pb_not_null = match_pb.notnull()\n",
    "pb_full = match_pb[match_pb_not_null]\n",
    "#llevamos todo a minuscula\n",
    "pb = pb_full.apply(lambda x: str(x).lower())\n",
    "#quitar los matches que tengan amenities  o espacios compartidos en pb\n",
    "pb_compartida = pisos_depto_txt[pb.index]\n",
    "pat_pb_compartida =\"(?P<pb_comp>(cocheras|cochera|locales|negocios|negocio|pileta)\\s(en planta baja|ubicada en planta baja|ubicados en planta baja|ubicada en planta baja|ubicado en planta baja))\"\n",
    "rx_pb_compartida = re.compile(pat_pb_compartida,flags=re.IGNORECASE)\n",
    "#matches que indiquen pb compartida\n",
    "resultado_pb_comp= pb_compartida.apply(lambda x: x if x is None else rx_pb_compartida.search(str(x)))\n",
    "match_pb_comp= resultado_pb_comp.apply(lambda x : x if x is None else x.group('pb_comp'))\n",
    "match_pb_comp_not_null = match_pb_comp.notnull()\n",
    "pb_comp_full = match_pb_comp[match_pb_comp_not_null]\n",
    "pb = pb.drop(pb_comp_full.index)\n",
    "#también dropeamos registros que indiquen planta alta\n",
    "pb_alta = pisos_depto_txt[pb.index]\n",
    "pat_pa = \"(?P<planta_alta>planta alta)\"\n",
    "rx_pa = re.compile(pat_pa,flags=re.IGNORECASE)\n",
    "resultado_pa= pb_alta.apply(lambda x: x if x is None else rx_pa.search(str(x)))\n",
    "match_pa= resultado_pa.apply(lambda x : x if x is None else x.group('planta_alta'))\n",
    "match_pa_not_null = match_pa.notnull()\n",
    "pa_full = match_pa[match_pa_not_null]\n",
    "pb = pb.drop(pa_full.index)\n",
    "# drop de registro con varios deptos\n",
    "pb = pb.drop(index=121108)\n",
    "pb = pb.drop(index=121109)\n",
    "# pb = pb.drop(index=121110)\n",
    "pb_a_reemplazar = pb.unique()\n",
    "#RESULTADO regex pb\n",
    "pb_cero = pb.replace(pb_a_reemplazar,0)\n",
    "#quitamos los registros ya tratados\n",
    "pisos_depto_txt = pisos_depto_txt.drop(pb_cero.index)"
   ]
  },
  {
   "cell_type": "code",
   "execution_count": 36,
   "id": "4f666e1f",
   "metadata": {},
   "outputs": [],
   "source": [
    "#Creamos la col clean_floor y completamos con los valores obtenidos\n",
    "data.loc[match_nro_piso.index,\"clean_floor\"] = match_nro_piso.astype('int64') \n",
    "data.loc[ordinal_dict.index,\"clean_floor\"] = ordinal_dict \n",
    "data.loc[match_piso_num.index,\"clean_floor\"] = match_piso_num.astype('int64') \n",
    "data.loc[num_dict.index,\"clean_floor\"] = num_dict \n",
    "data.loc[match_piso_grado.index,\"clean_floor\"] = match_piso_grado.astype('int64') \n",
    "data.loc[pb_cero.index,\"clean_floor\"] = pb_cero "
   ]
  },
  {
   "cell_type": "code",
   "execution_count": 37,
   "id": "ee982f2e",
   "metadata": {},
   "outputs": [
    {
     "name": "stdout",
     "output_type": "stream",
     "text": [
      "Nulos en floor antes de regex: 0.9301917392018394\n",
      "Nulos en floor después de regex: 0.8745175726720316\n"
     ]
    }
   ],
   "source": [
    "print(\"Nulos en floor antes de regex: \"+str(data[\"floor\"].isnull().mean()))\n",
    "print(\"Nulos en floor después de regex: \"+str(data[\"clean_floor\"].isnull().mean()))"
   ]
  },
  {
   "cell_type": "markdown",
   "id": "11fb9a48",
   "metadata": {},
   "source": [
    "[Volver a subíndice](#section_limpieza_datos)"
   ]
  },
  {
   "cell_type": "markdown",
   "id": "e408fea9",
   "metadata": {},
   "source": [
    "[Volver a TOC](#section_toc)"
   ]
  },
  {
   "cell_type": "markdown",
   "id": "27a71504",
   "metadata": {},
   "source": [
    "  <a id=\"section_price_per_m2\"></a> \n",
    "\n",
    "**2.5. Precio por metro cuadrado**"
   ]
  },
  {
   "cell_type": "code",
   "execution_count": 38,
   "id": "449c4879",
   "metadata": {},
   "outputs": [],
   "source": [
    "#para obtener el precio por m2, \n",
    "#la función divide el precio  por la sup. total\n",
    "#si ese valor no está disponible, divide por la sup. cubierta\n",
    "\n",
    "def get_price_per_m2(x):\n",
    "    if(x[1]is not None and x[1]!=0):\n",
    "        return x[0]/x[1]\n",
    "    elif(x[2]is not None and x[2]!=0):\n",
    "        return x[0]/x[2]\n",
    "    else: \n",
    "        return np.NaN"
   ]
  },
  {
   "cell_type": "code",
   "execution_count": 39,
   "id": "b71bf00e",
   "metadata": {},
   "outputs": [],
   "source": [
    "price_not_null_mask = data['price_clean'].notnull()"
   ]
  },
  {
   "cell_type": "code",
   "execution_count": 40,
   "id": "830fb094",
   "metadata": {},
   "outputs": [],
   "source": [
    "#cálculo de price_usd_per_m2 a partir de precio en usd\n",
    "total_price = data[['price_usd_clean','surface_total_in_m2_clean','surface_covered_in_m2_clean']]\n",
    "price_usd_per_m2 = total_price.apply(get_price_per_m2,axis=1)"
   ]
  },
  {
   "cell_type": "code",
   "execution_count": 41,
   "id": "17c567ff",
   "metadata": {},
   "outputs": [],
   "source": [
    "#creamos la col price_usd_per_m2_clean\n",
    "data.loc[price_usd_per_m2.index,\"price_usd_per_m2_clean\"] = price_usd_per_m2"
   ]
  },
  {
   "cell_type": "code",
   "execution_count": 42,
   "id": "b4436c87",
   "metadata": {},
   "outputs": [],
   "source": [
    "#cálculo de price_per_m2_clean a partir del precio total\n",
    "#y creación de la col price_per_m2_clean\n",
    "total_price_2 = data[['price_clean','surface_total_in_m2_clean','surface_covered_in_m2_clean']]\n",
    "price_per_m2_in_any_currency = total_price_2.apply(get_price_per_m2,axis=1)\n",
    "data.loc[price_per_m2_in_any_currency.index,\"price_per_m2_clean\"] = price_per_m2_in_any_currency"
   ]
  },
  {
   "cell_type": "code",
   "execution_count": 43,
   "id": "04095ae3",
   "metadata": {},
   "outputs": [],
   "source": [
    "data.dropna(subset=['price_usd_per_m2_clean',\"price_per_m2_clean\"],inplace=True)"
   ]
  },
  {
   "cell_type": "markdown",
   "id": "431accee",
   "metadata": {},
   "source": [
    "[Volver a subíndice](#section_limpieza_datos)"
   ]
  },
  {
   "cell_type": "markdown",
   "id": "e8b5e7e7",
   "metadata": {},
   "source": [
    "[Volver a TOC](#section_toc)"
   ]
  },
  {
   "cell_type": "markdown",
   "id": "dbb5beb5",
   "metadata": {},
   "source": [
    "<a id=\"section_limpieza_de_outliers\"></a> \n",
    "## 3. Limpieza de Outliers\n",
    "\n",
    "[volver a TOC](#section_toc)"
   ]
  },
  {
   "cell_type": "markdown",
   "id": "90474e99",
   "metadata": {},
   "source": [
    "<a id=\"outli_analisis\"></a>\n",
    "**3.1.Análisis inicial de variables**"
   ]
  },
  {
   "cell_type": "code",
   "execution_count": 44,
   "id": "7e148fc5",
   "metadata": {},
   "outputs": [
    {
     "data": {
      "text/html": [
       "<div>\n",
       "<style scoped>\n",
       "    .dataframe tbody tr th:only-of-type {\n",
       "        vertical-align: middle;\n",
       "    }\n",
       "\n",
       "    .dataframe tbody tr th {\n",
       "        vertical-align: top;\n",
       "    }\n",
       "\n",
       "    .dataframe thead th {\n",
       "        text-align: right;\n",
       "    }\n",
       "</style>\n",
       "<table border=\"1\" class=\"dataframe\">\n",
       "  <thead>\n",
       "    <tr style=\"text-align: right;\">\n",
       "      <th></th>\n",
       "      <th>price_usd_per_m2_clean</th>\n",
       "      <th>surface_total_in_m2_clean</th>\n",
       "      <th>surface_covered_in_m2_clean</th>\n",
       "      <th>price_usd_clean</th>\n",
       "      <th>price_clean</th>\n",
       "      <th>ambientes</th>\n",
       "    </tr>\n",
       "  </thead>\n",
       "  <tbody>\n",
       "    <tr>\n",
       "      <th>count</th>\n",
       "      <td>9.716500e+04</td>\n",
       "      <td>97165.000000</td>\n",
       "      <td>97165.000000</td>\n",
       "      <td>9.716500e+04</td>\n",
       "      <td>9.716500e+04</td>\n",
       "      <td>86030.000000</td>\n",
       "    </tr>\n",
       "    <tr>\n",
       "      <th>mean</th>\n",
       "      <td>2.538817e+03</td>\n",
       "      <td>221.826542</td>\n",
       "      <td>133.399092</td>\n",
       "      <td>2.435766e+05</td>\n",
       "      <td>4.529166e+05</td>\n",
       "      <td>3.515018</td>\n",
       "    </tr>\n",
       "    <tr>\n",
       "      <th>std</th>\n",
       "      <td>1.535671e+04</td>\n",
       "      <td>1687.221238</td>\n",
       "      <td>937.587956</td>\n",
       "      <td>3.769367e+05</td>\n",
       "      <td>9.384452e+05</td>\n",
       "      <td>98.506862</td>\n",
       "    </tr>\n",
       "    <tr>\n",
       "      <th>min</th>\n",
       "      <td>6.000000e-01</td>\n",
       "      <td>1.075758</td>\n",
       "      <td>0.000000</td>\n",
       "      <td>4.666620e+03</td>\n",
       "      <td>5.000000e+03</td>\n",
       "      <td>1.000000</td>\n",
       "    </tr>\n",
       "    <tr>\n",
       "      <th>25%</th>\n",
       "      <td>1.090909e+03</td>\n",
       "      <td>50.000000</td>\n",
       "      <td>45.000000</td>\n",
       "      <td>9.050000e+04</td>\n",
       "      <td>1.100000e+05</td>\n",
       "      <td>2.000000</td>\n",
       "    </tr>\n",
       "    <tr>\n",
       "      <th>50%</th>\n",
       "      <td>1.695348e+03</td>\n",
       "      <td>86.000000</td>\n",
       "      <td>73.000000</td>\n",
       "      <td>1.500000e+05</td>\n",
       "      <td>1.850000e+05</td>\n",
       "      <td>3.000000</td>\n",
       "    </tr>\n",
       "    <tr>\n",
       "      <th>75%</th>\n",
       "      <td>2.382353e+03</td>\n",
       "      <td>207.606768</td>\n",
       "      <td>150.000000</td>\n",
       "      <td>2.700000e+05</td>\n",
       "      <td>4.000000e+05</td>\n",
       "      <td>4.000000</td>\n",
       "    </tr>\n",
       "    <tr>\n",
       "      <th>max</th>\n",
       "      <td>2.303310e+06</td>\n",
       "      <td>211087.559324</td>\n",
       "      <td>187000.000000</td>\n",
       "      <td>4.654544e+07</td>\n",
       "      <td>1.000000e+08</td>\n",
       "      <td>20174.000000</td>\n",
       "    </tr>\n",
       "  </tbody>\n",
       "</table>\n",
       "</div>"
      ],
      "text/plain": [
       "       price_usd_per_m2_clean  surface_total_in_m2_clean  \\\n",
       "count            9.716500e+04               97165.000000   \n",
       "mean             2.538817e+03                 221.826542   \n",
       "std              1.535671e+04                1687.221238   \n",
       "min              6.000000e-01                   1.075758   \n",
       "25%              1.090909e+03                  50.000000   \n",
       "50%              1.695348e+03                  86.000000   \n",
       "75%              2.382353e+03                 207.606768   \n",
       "max              2.303310e+06              211087.559324   \n",
       "\n",
       "       surface_covered_in_m2_clean  price_usd_clean   price_clean  \\\n",
       "count                 97165.000000     9.716500e+04  9.716500e+04   \n",
       "mean                    133.399092     2.435766e+05  4.529166e+05   \n",
       "std                     937.587956     3.769367e+05  9.384452e+05   \n",
       "min                       0.000000     4.666620e+03  5.000000e+03   \n",
       "25%                      45.000000     9.050000e+04  1.100000e+05   \n",
       "50%                      73.000000     1.500000e+05  1.850000e+05   \n",
       "75%                     150.000000     2.700000e+05  4.000000e+05   \n",
       "max                  187000.000000     4.654544e+07  1.000000e+08   \n",
       "\n",
       "          ambientes  \n",
       "count  86030.000000  \n",
       "mean       3.515018  \n",
       "std       98.506862  \n",
       "min        1.000000  \n",
       "25%        2.000000  \n",
       "50%        3.000000  \n",
       "75%        4.000000  \n",
       "max    20174.000000  "
      ]
     },
     "execution_count": 44,
     "metadata": {},
     "output_type": "execute_result"
    }
   ],
   "source": [
    "d_describe = data[['price_usd_per_m2_clean','surface_total_in_m2_clean','surface_covered_in_m2_clean','price_usd_clean','price_clean','ambientes']].describe()\n",
    "d_describe"
   ]
  },
  {
   "cell_type": "code",
   "execution_count": 45,
   "id": "5318c811",
   "metadata": {},
   "outputs": [
    {
     "data": {
      "text/plain": [
       "Text(0.5, 1.0, 'Tiendas')"
      ]
     },
     "execution_count": 45,
     "metadata": {},
     "output_type": "execute_result"
    },
    {
     "data": {
      "image/png": "[encoded data removed]",
      "text/plain": [
       "<Figure size 720x576 with 4 Axes>"
      ]
     },
     "metadata": {
      "needs_background": "light"
     },
     "output_type": "display_data"
    }
   ],
   "source": [
    "# scatterplot para ver valores extremos entre\n",
    "# sup total en m2 y precio en USD ANTES de limpiar\n",
    "# outliers de price_usd_per_m2_clean\n",
    "fig,axes = plt.subplots(2,2,figsize=(10,8))\n",
    "fig.suptitle(\"Precios de propiedades según sup.total y tipo\")\n",
    "plt.subplots_adjust(hspace=0.4)\n",
    "sns.scatterplot(ax=axes[0,0],data=data[data['property_type']=='apartment'],x='surface_total_in_m2_clean',y='price_usd_clean',color=\"darkorange\")\n",
    "axes[0,0].set_title(\"Departamentos\")\n",
    "# axes[0,0].set_xlim(0,400)\n",
    "sns.scatterplot(ax=axes[0,1],data=data[data['property_type']=='house'],x='surface_total_in_m2_clean',y='price_usd_clean',color=\"gold\")\n",
    "axes[0,1].set_title(\"Casas\")\n",
    "sns.scatterplot(ax=axes[1,0],data=data[data['property_type']=='PH'],x='surface_total_in_m2_clean',y='price_usd_clean',color=\"yellowgreen\")\n",
    "axes[1,0].set_title(\"PH\")\n",
    "sns.scatterplot(ax=axes[1,1],data=data[data['property_type']=='store'],x='surface_total_in_m2_clean',y='price_usd_clean',color=\"palegreen\")\n",
    "axes[1,1].set_title(\"Tiendas\")"
   ]
  },
  {
   "cell_type": "markdown",
   "id": "e464cdec",
   "metadata": {},
   "source": [
    "<a id=\"outli_usd_m2\"></a>\n",
    "**3.2.Identificación de outliers en price_usd_per_m2_clean**\n",
    "\n",
    "[volver a TOC](#section_toc)"
   ]
  },
  {
   "cell_type": "code",
   "execution_count": 46,
   "id": "47d91954",
   "metadata": {},
   "outputs": [
    {
     "name": "stdout",
     "output_type": "stream",
     "text": [
      "1291.4438502673797\n",
      "91.50475796290536\n"
     ]
    }
   ],
   "source": [
    "# tratamiento de outliers para price_USD_per_m2_clean\n",
    "# vemos outliers con IQR\n",
    "\n",
    "Q1_obj = data['price_usd_per_m2_clean'].quantile(0.25)\n",
    "Q3_obj = data['price_usd_per_m2_clean'].quantile(0.75)\n",
    "IQR_obj = Q3_obj-Q1_obj\n",
    "print(IQR_obj)\n",
    "\n",
    "#vemos outliers mediante asimetría\n",
    "# el skewness value explica hasta qué grado la var está distribuida normalmente\n",
    "# idealmente el skewness value está entre +1 y -1, y cualquier desviación\n",
    "# importante de este rango indica la presencia de valores extremos\n",
    "# para la var price_usd_per_m2_clean el val de skewness es de 0.87, indicando que \n",
    "# la var tiene distrib aproximadamente normal\n",
    "\n",
    "print(data['price_usd_per_m2_clean'].skew())"
   ]
  },
  {
   "cell_type": "code",
   "execution_count": 47,
   "id": "6e559fbe",
   "metadata": {},
   "outputs": [],
   "source": [
    "# identificaremos outliers de la var price_usd_clean agrupando por tipo de propiedad \n",
    "# y provincia\n",
    "# veamos provincias con más de 100 registros\n",
    "states = data['state_name'].value_counts()\n",
    "lim_mask = states>100\n",
    "unique_st = list(states[lim_mask].index)\n",
    "df_price_usd = data[['price_usd_clean','state_name','property_type']]\n",
    "# df_price_usd.shape[0]\n",
    "\n",
    "\n",
    "def verify_outli(df,prop_type,prov_list,col):\n",
    "    q_for_df = []\n",
    "#   prop type\n",
    "    prop_mask = df['property_type']==prop_type\n",
    "#     iteramos por cada prov para ese tipo de prop\n",
    "    for p in prov_list:\n",
    "        prov_mask = df['state_name']==p\n",
    "        out_mask = np.logical_and(prop_mask,prov_mask)\n",
    "        data_out = df[out_mask]\n",
    "    #     valores que nos interesan para analizar outliers\n",
    "        cant = data_out.shape[0]\n",
    "        Q1 = data_out[col].quantile(0.25)\n",
    "        Q2 = data_out[col].quantile(0.5)\n",
    "        Q3 = data_out[col].quantile(0.75)\n",
    "        minimo = np.min(data_out[col])\n",
    "        maximo = np.max(data_out[col])\n",
    "        IQR = Q3-Q1\n",
    "        out_val = (data_out[col]<(Q1-1.5*IQR))|(data_out[col]>(Q3+1.5*IQR))\n",
    "        out_count = out_val.sum()\n",
    "    #     dict con valores para cada provincia\n",
    "        quantile_dict = {'Provincia':p,'Tipo prop':prop_type,'Cantidad':cant,\n",
    "                        'Min':minimo,'Q1':Q1,'Q2':Q2,'Q3':Q3,'Max':maximo,\n",
    "                         'Out_count':out_count}\n",
    "        q_for_df.append(quantile_dict)\n",
    "        \n",
    "    quantile_df = pd.DataFrame(q_for_df)\n",
    "    return quantile_df"
   ]
  },
  {
   "cell_type": "code",
   "execution_count": 48,
   "id": "bbea7c75",
   "metadata": {},
   "outputs": [
    {
     "data": {
      "text/plain": [
       "97165"
      ]
     },
     "execution_count": 48,
     "metadata": {},
     "output_type": "execute_result"
    }
   ],
   "source": [
    "# analizamos la var price_usd_per_m2_clean\n",
    "df_usd_per_m2 = data[['price_usd_per_m2_clean','state_name','property_type']]\n",
    "df_usd_per_m2.shape[0]"
   ]
  },
  {
   "cell_type": "code",
   "execution_count": 49,
   "id": "5f2a5447",
   "metadata": {},
   "outputs": [],
   "source": [
    "# vemos los cuantiles, val max, min, cantidad de\n",
    "# outliers identificados con IQR por tipo de prop\n",
    "# para cada provincia\n",
    "df_usd_per_m2_house = verify_outli(df_usd_per_m2,\"house\",unique_st,'price_usd_per_m2_clean')\n",
    "df_usd_per_m2_dept = verify_outli(df_usd_per_m2,\"apartment\",unique_st,'price_usd_per_m2_clean')\n",
    "df_usd_per_m2_ph = verify_outli(df_usd_per_m2,\"PH\",unique_st,'price_usd_per_m2_clean')\n",
    "df_usd_per_m2_store = verify_outli(df_usd_per_m2,\"store\",unique_st,'price_usd_per_m2_clean')"
   ]
  },
  {
   "cell_type": "code",
   "execution_count": 50,
   "id": "cd8cdc93",
   "metadata": {},
   "outputs": [],
   "source": [
    "# df_usd_per_m2_house.head()\n",
    "# df_usd_per_m2_house['Out_count'].sum()-->1661\n",
    "# df_usd_per_m2_dept.head()\n",
    "# df_usd_per_m2_dept['Out_count'].sum()-->3612\n",
    "# df_usd_per_m2_ph.head()\n",
    "# df_usd_per_m2_ph['Out_count'].sum()-->312\n",
    "# df_usd_per_m2_store.head()\n",
    "# df_usd_per_m2_store['Out_count'].sum()-->261"
   ]
  },
  {
   "cell_type": "markdown",
   "id": "45593a4a",
   "metadata": {},
   "source": [
    "<a id=\"outli_usd_m2_deletion\"></a>\n",
    "**3.3.Eliminación de outliers en price_usd_per_m2_clean**\n",
    "\n",
    "[volver a TOC](#section_toc)"
   ]
  },
  {
   "cell_type": "code",
   "execution_count": 51,
   "id": "0e475d14",
   "metadata": {},
   "outputs": [],
   "source": [
    "# función para eliminación de outliers\n",
    "# en base al método IQR\n",
    "# limpiamos cruzando tipo de prop y provincia\n",
    "def clean_outli(df,prop_type,prov_list,col):\n",
    "    df_out = pd.DataFrame()\n",
    "    prop_mask = df['property_type']==prop_type\n",
    "#     iteramos por cada prov para ese tipo de prop\n",
    "    for p in prov_list:\n",
    "        prov_mask = df['state_name']==p\n",
    "        out_mask = np.logical_and(prop_mask,prov_mask)\n",
    "        data_out = df[out_mask]\n",
    "        cant = data_out.shape[0]\n",
    "#         si hay menos de 30 registros, no eliminamos\n",
    "        if cant < 30:\n",
    "            continue\n",
    "        Q1 = data_out[col].quantile(0.25)\n",
    "        Q3 = data_out[col].quantile(0.75)\n",
    "        IQR = Q3-Q1\n",
    "#         devuelve datos con outliers\n",
    "        out_val = data_out[((data_out[col]<(Q1-1.5*IQR))|(data_out[col]>(Q3+1.5*IQR)))]\n",
    "        df_out = df_out.append(out_val)\n",
    "        \n",
    "    return df_out"
   ]
  },
  {
   "cell_type": "code",
   "execution_count": 52,
   "id": "f67f2d2d",
   "metadata": {},
   "outputs": [],
   "source": [
    "df_out_usd_m2_house = clean_outli(df_usd_per_m2,\"house\",unique_st,'price_usd_per_m2_clean')\n",
    "df_out_usd_m2_depto = clean_outli(df_usd_per_m2,\"apartment\",unique_st,'price_usd_per_m2_clean')\n",
    "df_out_usd_m2_ph = clean_outli(df_usd_per_m2,\"PH\",unique_st,'price_usd_per_m2_clean')\n",
    "df_out_usd_m2_store = clean_outli(df_usd_per_m2,\"store\",unique_st,'price_usd_per_m2_clean')"
   ]
  },
  {
   "cell_type": "code",
   "execution_count": 53,
   "id": "63b2507c",
   "metadata": {},
   "outputs": [],
   "source": [
    "# limpiamos del df los registros que tienen outliers \n",
    "# para la var price_usd_per_m2_clean\n",
    "\n",
    "data = data.drop(list(df_out_usd_m2_house.index))\n",
    "data = data.drop(list(df_out_usd_m2_depto.index))\n",
    "data = data.drop(list(df_out_usd_m2_ph.index))\n",
    "data = data.drop(list(df_out_usd_m2_store.index))"
   ]
  },
  {
   "cell_type": "code",
   "execution_count": 54,
   "id": "94644021",
   "metadata": {},
   "outputs": [
    {
     "data": {
      "text/plain": [
       "91325"
      ]
     },
     "execution_count": 54,
     "metadata": {},
     "output_type": "execute_result"
    }
   ],
   "source": [
    "data.shape[0]"
   ]
  },
  {
   "cell_type": "code",
   "execution_count": 55,
   "id": "f768882e",
   "metadata": {},
   "outputs": [
    {
     "name": "stdout",
     "output_type": "stream",
     "text": [
      "1.0143260612610239\n"
     ]
    }
   ],
   "source": [
    "# skewness resultante \n",
    "print(data['price_usd_per_m2_clean'].skew())"
   ]
  },
  {
   "cell_type": "code",
   "execution_count": 56,
   "id": "76197f30",
   "metadata": {},
   "outputs": [
    {
     "data": {
      "text/plain": [
       "<AxesSubplot:xlabel='price_usd_per_m2_clean', ylabel='Density'>"
      ]
     },
     "execution_count": 56,
     "metadata": {},
     "output_type": "execute_result"
    },
    {
     "data": {
      "image/png": "[encoded data removed]",
      "text/plain": [
       "<Figure size 432x288 with 1 Axes>"
      ]
     },
     "metadata": {
      "needs_background": "light"
     },
     "output_type": "display_data"
    }
   ],
   "source": [
    "sns.histplot(data=data['price_usd_per_m2_clean'],stat='density', kde=True)"
   ]
  },
  {
   "cell_type": "code",
   "execution_count": 57,
   "id": "71f16a27",
   "metadata": {},
   "outputs": [
    {
     "name": "stdout",
     "output_type": "stream",
     "text": [
      "8.844035973914236\n",
      "73.57513416388382\n"
     ]
    }
   ],
   "source": [
    "print(data['price_usd_clean'].skew())\n",
    "print(data['surface_total_in_m2_clean'].skew())"
   ]
  },
  {
   "cell_type": "code",
   "execution_count": 58,
   "id": "6365068f",
   "metadata": {},
   "outputs": [
    {
     "data": {
      "text/plain": [
       "Text(0.5, 1.0, 'Tiendas')"
      ]
     },
     "execution_count": 58,
     "metadata": {},
     "output_type": "execute_result"
    },
    {
     "data": {
      "image/png": "[encoded data removed]",
      "text/plain": [
       "<Figure size 720x576 with 4 Axes>"
      ]
     },
     "metadata": {
      "needs_background": "light"
     },
     "output_type": "display_data"
    }
   ],
   "source": [
    "# scatterplot para ver valores extremos entre\n",
    "# sup total en m2 y precio en USD DESPUÉS de limpiar\n",
    "# outliers de price_usd_per_m2_clean\n",
    "fig,axes = plt.subplots(2,2,figsize=(10,8))\n",
    "fig.suptitle(\"Precios de propiedades según sup.total y tipo\")\n",
    "plt.subplots_adjust(hspace=0.4)\n",
    "sns.scatterplot(ax=axes[0,0],data=data[data['property_type']=='apartment'],x='surface_total_in_m2_clean',y='price_usd_clean',color=\"darkorange\")\n",
    "axes[0,0].set_title(\"Departamentos\")\n",
    "# axes[0,0].set_xlim(0,400)\n",
    "sns.scatterplot(ax=axes[0,1],data=data[data['property_type']=='house'],x='surface_total_in_m2_clean',y='price_usd_clean',color=\"gold\")\n",
    "axes[0,1].set_title(\"Casas\")\n",
    "sns.scatterplot(ax=axes[1,0],data=data[data['property_type']=='PH'],x='surface_total_in_m2_clean',y='price_usd_clean',color=\"yellowgreen\")\n",
    "axes[1,0].set_title(\"PH\")\n",
    "sns.scatterplot(ax=axes[1,1],data=data[data['property_type']=='store'],x='surface_total_in_m2_clean',y='price_usd_clean',color=\"palegreen\")\n",
    "axes[1,1].set_title(\"Tiendas\")"
   ]
  },
  {
   "cell_type": "markdown",
   "id": "20cfd8ba",
   "metadata": {},
   "source": [
    "<a id=\"outli_surface_tot_trim\"></a>\n",
    "**3.4.Trim sobre surface_total_in_m2_clean**\n",
    "\n",
    "[volver a TOC](#section_toc)"
   ]
  },
  {
   "cell_type": "code",
   "execution_count": 59,
   "id": "5bdb1bdb",
   "metadata": {},
   "outputs": [],
   "source": [
    "# fn para remover puntos que son  outliers\n",
    "def trim_outli(data,prop,li,ls,col):\n",
    "    \n",
    "    data_prop = data[data['property_type']==prop]\n",
    "    data_prop_outli = data_prop[(data_prop[col]>=ls)|(data_prop[col]<=li)]\n",
    "\n",
    "    data_out_idx = data_prop_outli.index\n",
    "    return data_out_idx"
   ]
  },
  {
   "cell_type": "code",
   "execution_count": 60,
   "id": "4d85b1d0",
   "metadata": {},
   "outputs": [],
   "source": [
    "# vemos cantidad de valores extremos para \n",
    "# superficie total en m2 en dptos \n",
    "# teniendo en cuenta los gráficos\n",
    "dept_sup_idx = trim_outli(data,'apartment',5,4000,'surface_total_in_m2_clean')"
   ]
  },
  {
   "cell_type": "code",
   "execution_count": 61,
   "id": "40ac3009",
   "metadata": {},
   "outputs": [],
   "source": [
    "# vemos cantidad de valores extremos para \n",
    "# superficie total en m2 en casas\n",
    "# teniendo en cuenta los gráficos\n",
    "casa_sup_idx = trim_outli(data,'house',5,55000,'surface_total_in_m2_clean')"
   ]
  },
  {
   "cell_type": "code",
   "execution_count": 62,
   "id": "15720c8f",
   "metadata": {},
   "outputs": [],
   "source": [
    "# vemos cantidad de valores extremos para \n",
    "# superficie total en m2 en ph\n",
    "# teniendo en cuenta los gráficos\n",
    "ph_sup_idx = trim_outli(data,'PH',5,1000,'surface_total_in_m2_clean')"
   ]
  },
  {
   "cell_type": "code",
   "execution_count": 63,
   "id": "27f65d5e",
   "metadata": {},
   "outputs": [],
   "source": [
    "# vemos cantidad de valores extremos para \n",
    "# superficie total en m2 en stores\n",
    "# teniendo en cuenta los gráficos\n",
    "store_sup_idx = trim_outli(data,'store',5,2000,'surface_total_in_m2_clean')"
   ]
  },
  {
   "cell_type": "code",
   "execution_count": 64,
   "id": "2798a746",
   "metadata": {},
   "outputs": [],
   "source": [
    "# hacemos trim sobre los valores de sup total\n",
    "# extremos que hallamos en los gráficos\n",
    "\n",
    "data.drop(dept_sup_idx,inplace=True)\n",
    "data.drop(casa_sup_idx,inplace=True)\n",
    "data.drop(ph_sup_idx,inplace=True)\n",
    "data.drop(store_sup_idx,inplace=True)"
   ]
  },
  {
   "cell_type": "code",
   "execution_count": 65,
   "id": "735c899b",
   "metadata": {},
   "outputs": [
    {
     "name": "stdout",
     "output_type": "stream",
     "text": [
      "39.58062860087847\n"
     ]
    }
   ],
   "source": [
    "# la asimetría sigue alta\n",
    "print(data['surface_total_in_m2_clean'].skew())"
   ]
  },
  {
   "cell_type": "code",
   "execution_count": 66,
   "id": "639f9e72",
   "metadata": {},
   "outputs": [
    {
     "name": "stdout",
     "output_type": "stream",
     "text": [
      "4\n",
      "10\n",
      "7\n",
      "60\n"
     ]
    }
   ],
   "source": [
    "dept_sup_idx = trim_outli(data,'apartment',5,1250,'surface_total_in_m2_clean')\n",
    "print(dept_sup_idx.shape[0])\n",
    "casa_sup_idx = trim_outli(data,'house',5,35000,'surface_total_in_m2_clean')\n",
    "print(casa_sup_idx.shape[0])\n",
    "ph_sup_idx = trim_outli(data,'PH',5,600,'surface_total_in_m2_clean')\n",
    "print(ph_sup_idx.shape[0])\n",
    "store_sup_idx = trim_outli(data,'store',5,1250,'surface_total_in_m2_clean')\n",
    "print(store_sup_idx.shape[0])"
   ]
  },
  {
   "cell_type": "code",
   "execution_count": 67,
   "id": "646a984b",
   "metadata": {},
   "outputs": [],
   "source": [
    "# hacemos trim sobre los valores de sup total\n",
    "# extremos que hallamos en los gráficos\n",
    "\n",
    "data.drop(dept_sup_idx,inplace=True)\n",
    "data.drop(casa_sup_idx,inplace=True)\n",
    "data.drop(ph_sup_idx,inplace=True)\n",
    "data.drop(store_sup_idx,inplace=True)"
   ]
  },
  {
   "cell_type": "code",
   "execution_count": 68,
   "id": "892601ba",
   "metadata": {},
   "outputs": [
    {
     "name": "stdout",
     "output_type": "stream",
     "text": [
      "25.86165115404727\n"
     ]
    }
   ],
   "source": [
    "# la asimetría sigue alta\n",
    "# podríamos tratar a la variable con log transf\n",
    "print(data['surface_total_in_m2_clean'].skew())"
   ]
  },
  {
   "cell_type": "code",
   "execution_count": 69,
   "id": "8ca05fc8",
   "metadata": {},
   "outputs": [
    {
     "data": {
      "text/plain": [
       "Text(0.5, 1.0, 'Tiendas')"
      ]
     },
     "execution_count": 69,
     "metadata": {},
     "output_type": "execute_result"
    },
    {
     "data": {
      "image/png": "[encoded data removed]",
      "text/plain": [
       "<Figure size 720x576 with 4 Axes>"
      ]
     },
     "metadata": {
      "needs_background": "light"
     },
     "output_type": "display_data"
    }
   ],
   "source": [
    "# scatterplot para ver valores extremos entre\n",
    "# sup total en m2 y precio en USD DESPUÉS de limpiar\n",
    "# outliers de price_usd_per_m2_clean\n",
    "# y trimming sobre sup total\n",
    "fig,axes = plt.subplots(2,2,figsize=(10,8))\n",
    "fig.suptitle(\"Precios de propiedades según sup.total y tipo\")\n",
    "plt.subplots_adjust(hspace=0.4)\n",
    "sns.scatterplot(ax=axes[0,0],data=data[data['property_type']=='apartment'],x='surface_total_in_m2_clean',y='price_usd_clean',color=\"darkorange\")\n",
    "axes[0,0].set_title(\"Departamentos\")\n",
    "# axes[0,0].set_xlim(0,400)\n",
    "sns.scatterplot(ax=axes[0,1],data=data[data['property_type']=='house'],x='surface_total_in_m2_clean',y='price_usd_clean',color=\"gold\")\n",
    "axes[0,1].set_title(\"Casas\")\n",
    "sns.scatterplot(ax=axes[1,0],data=data[data['property_type']=='PH'],x='surface_total_in_m2_clean',y='price_usd_clean',color=\"yellowgreen\")\n",
    "axes[1,0].set_title(\"PH\")\n",
    "sns.scatterplot(ax=axes[1,1],data=data[data['property_type']=='store'],x='surface_total_in_m2_clean',y='price_usd_clean',color=\"palegreen\")\n",
    "axes[1,1].set_title(\"Tiendas\")"
   ]
  },
  {
   "cell_type": "code",
   "execution_count": 70,
   "id": "30780915",
   "metadata": {},
   "outputs": [
    {
     "data": {
      "text/plain": [
       "91125"
      ]
     },
     "execution_count": 70,
     "metadata": {},
     "output_type": "execute_result"
    }
   ],
   "source": [
    "df_total_surface = data[['surface_total_in_m2_clean','state_name','property_type']]\n",
    "df_total_surface.shape[0]"
   ]
  },
  {
   "cell_type": "code",
   "execution_count": 71,
   "id": "3a3316a6",
   "metadata": {},
   "outputs": [],
   "source": [
    "# vemos los cuantiles, val max, min, cantidad de\n",
    "# outliers identificados con IQR por tipo de prop\n",
    "# para cada provincia\n",
    "df_total_surface_house = verify_outli(df_total_surface,\"house\",unique_st,'surface_total_in_m2_clean')\n",
    "df_total_surface_dept = verify_outli(df_total_surface,\"apartment\",unique_st,'surface_total_in_m2_clean')\n",
    "df_total_surface_ph = verify_outli(df_total_surface,\"PH\",unique_st,'surface_total_in_m2_clean')\n",
    "df_total_surface_store = verify_outli(df_total_surface,\"store\",unique_st,'surface_total_in_m2_clean')"
   ]
  },
  {
   "cell_type": "code",
   "execution_count": 72,
   "id": "c36d2381",
   "metadata": {},
   "outputs": [],
   "source": [
    "# df_total_surface_house['Out_count'].sum()-->2406\n",
    "# df_total_surface_dept['Out_count'].sum()-->3661\n",
    "# df_total_surface_ph['Out_count'].sum()-->198\n",
    "# df_total_surface_store['Out_count'].sum()-->179"
   ]
  },
  {
   "cell_type": "code",
   "execution_count": 73,
   "id": "26d7237c",
   "metadata": {},
   "outputs": [
    {
     "data": {
      "text/plain": [
       "179"
      ]
     },
     "execution_count": 73,
     "metadata": {},
     "output_type": "execute_result"
    }
   ],
   "source": [
    "df_total_surface_store['Out_count'].sum()"
   ]
  },
  {
   "cell_type": "code",
   "execution_count": 74,
   "id": "2e2f4f41",
   "metadata": {},
   "outputs": [],
   "source": [
    "# df_out_total_sup_house = clean_outli(df_total_surface,\"house\",unique_st,'surface_total_in_m2_clean')\n",
    "# df_out_total_sup_dept = clean_outli(df_total_surface,\"apartment\",unique_st,'surface_total_in_m2_clean')\n",
    "# df_out_total_sup_ph = clean_outli(df_total_surface,\"PH\",unique_st,'surface_total_in_m2_clean')\n",
    "# df_out_total_sup_store = clean_outli(df_total_surface,\"store\",unique_st,'surface_total_in_m2_clean')"
   ]
  },
  {
   "cell_type": "code",
   "execution_count": 75,
   "id": "ee48d30d",
   "metadata": {},
   "outputs": [],
   "source": [
    "# # limpiamos del df los registros que tienen outliers \n",
    "# # para la var surface_total_in_m2_clean\n",
    "\n",
    "# data = data.drop(list(df_out_total_sup_house.index))\n",
    "# data = data.drop(list(df_out_total_sup_dept.index))\n",
    "# data = data.drop(list(df_out_total_sup_ph.index))\n",
    "# data = data.drop(list(df_out_total_sup_store.index))\n",
    "\n",
    "# print(data['surface_total_in_m2_clean'].skew())"
   ]
  },
  {
   "cell_type": "code",
   "execution_count": 76,
   "id": "22287e0c",
   "metadata": {},
   "outputs": [
    {
     "name": "stdout",
     "output_type": "stream",
     "text": [
      "0.7955456320044259\n"
     ]
    }
   ],
   "source": [
    "# otra opción para no borrar registros \n",
    "# de sup total es hacer transformación logarítmica...\n",
    "# y así reducir la asimetría en la var\n",
    "surface_total_log = np.log(data['surface_total_in_m2_clean'])\n",
    "print(surface_total_log.skew())\n",
    "surface_total_log\n",
    "data.loc[surface_total_log.index,\"surface_total_log\"] = surface_total_log"
   ]
  },
  {
   "cell_type": "code",
   "execution_count": 77,
   "id": "52930673",
   "metadata": {},
   "outputs": [
    {
     "data": {
      "text/plain": [
       "<AxesSubplot:xlabel='surface_total_log', ylabel='Count'>"
      ]
     },
     "execution_count": 77,
     "metadata": {},
     "output_type": "execute_result"
    },
    {
     "data": {
      "image/png": "[encoded data removed]",
      "text/plain": [
       "<Figure size 432x288 with 1 Axes>"
      ]
     },
     "metadata": {
      "needs_background": "light"
     },
     "output_type": "display_data"
    }
   ],
   "source": [
    "sns.histplot(data=data,x=\"surface_total_log\",kde=True)"
   ]
  },
  {
   "cell_type": "markdown",
   "id": "4de89a40",
   "metadata": {},
   "source": [
    "<a id=\"outli_surface_cov_trim\"></a>\n",
    "**3.5.Trim para outliers en surface_covered_in_m2_clean**\n",
    "\n",
    "[volver a TOC](#section_toc)"
   ]
  },
  {
   "cell_type": "code",
   "execution_count": 78,
   "id": "cf77b2b8",
   "metadata": {},
   "outputs": [
    {
     "data": {
      "text/plain": [
       "Text(0.5, 1.0, 'Tiendas')"
      ]
     },
     "execution_count": 78,
     "metadata": {},
     "output_type": "execute_result"
    },
    {
     "data": {
      "image/png": "[encoded data removed]",
      "text/plain": [
       "<Figure size 720x576 with 4 Axes>"
      ]
     },
     "metadata": {
      "needs_background": "light"
     },
     "output_type": "display_data"
    }
   ],
   "source": [
    "# scatterplot para ver valores extremos entre\n",
    "# surface_covered_in_m2_clean y \n",
    "# precio en USD DESPUÉS de limpiar\n",
    "# outliers de price_usd_per_m2_clean\n",
    "\n",
    "fig,axes = plt.subplots(2,2,figsize=(10,8))\n",
    "fig.suptitle(\"Precios de propiedades según sup.cubierta y tipo\")\n",
    "plt.subplots_adjust(hspace=0.4)\n",
    "sns.scatterplot(ax=axes[0,0],data=data[data['property_type']=='apartment'],x='surface_covered_in_m2_clean',y='price_usd_clean',color=\"darkorange\")\n",
    "axes[0,0].set_title(\"Departamentos\")\n",
    "# axes[0,0].set_xlim(0,400)\n",
    "sns.scatterplot(ax=axes[0,1],data=data[data['property_type']=='house'],x='surface_covered_in_m2_clean',y='price_usd_clean',color=\"gold\")\n",
    "axes[0,1].set_title(\"Casas\")\n",
    "sns.scatterplot(ax=axes[1,0],data=data[data['property_type']=='PH'],x='surface_covered_in_m2_clean',y='price_usd_clean',color=\"yellowgreen\")\n",
    "axes[1,0].set_title(\"PH\")\n",
    "sns.scatterplot(ax=axes[1,1],data=data[data['property_type']=='store'],x='surface_covered_in_m2_clean',y='price_usd_clean',color=\"palegreen\")\n",
    "axes[1,1].set_title(\"Tiendas\")"
   ]
  },
  {
   "cell_type": "code",
   "execution_count": 79,
   "id": "5693161d",
   "metadata": {},
   "outputs": [
    {
     "name": "stdout",
     "output_type": "stream",
     "text": [
      "41.90563639190333\n"
     ]
    }
   ],
   "source": [
    "# la var tiene sesgo alto\n",
    "print(data['surface_covered_in_m2_clean'].skew())"
   ]
  },
  {
   "cell_type": "code",
   "execution_count": 80,
   "id": "41ddb55e",
   "metadata": {},
   "outputs": [],
   "source": [
    "dept_cov_idx = trim_outli(data,'apartment',5,600,'surface_covered_in_m2_clean')\n",
    "casa_cov_idx = trim_outli(data,'house',5,5000,'surface_covered_in_m2_clean')\n",
    "ph_cov_idx = trim_outli(data,'PH',5,300,'surface_covered_in_m2_clean')\n",
    "store_cov_idx = trim_outli(data,'store',5,600,'surface_covered_in_m2_clean')"
   ]
  },
  {
   "cell_type": "code",
   "execution_count": 81,
   "id": "3dec7bfb",
   "metadata": {},
   "outputs": [
    {
     "name": "stdout",
     "output_type": "stream",
     "text": [
      "85\n",
      "53\n",
      "34\n",
      "192\n"
     ]
    }
   ],
   "source": [
    "# cantidad de registros a sacar\n",
    "print(dept_cov_idx.shape[0])\n",
    "print(casa_cov_idx.shape[0])\n",
    "print(ph_cov_idx.shape[0])\n",
    "print(store_cov_idx.shape[0])"
   ]
  },
  {
   "cell_type": "code",
   "execution_count": 82,
   "id": "b3bf8129",
   "metadata": {},
   "outputs": [],
   "source": [
    "# hacemos trim sobre los valores extremos de sup cubierta\n",
    "# que hallamos en los gráficos\n",
    "\n",
    "data.drop(dept_cov_idx,inplace=True)\n",
    "data.drop(casa_cov_idx,inplace=True)\n",
    "data.drop(ph_cov_idx,inplace=True)\n",
    "data.drop(store_cov_idx,inplace=True)"
   ]
  },
  {
   "cell_type": "code",
   "execution_count": 83,
   "id": "1aaf7bac",
   "metadata": {},
   "outputs": [
    {
     "name": "stdout",
     "output_type": "stream",
     "text": [
      "7.085285565558277\n"
     ]
    }
   ],
   "source": [
    "# el sesgo se redujo\n",
    "print(data['surface_covered_in_m2_clean'].skew())"
   ]
  },
  {
   "cell_type": "code",
   "execution_count": 84,
   "id": "20dfb887",
   "metadata": {},
   "outputs": [
    {
     "name": "stdout",
     "output_type": "stream",
     "text": [
      "0.5271623261129998\n"
     ]
    }
   ],
   "source": [
    "# hacemos transformación log en sup cubierta\n",
    "surface_covered_log = np.log(data['surface_covered_in_m2_clean'])\n",
    "print(surface_covered_log.skew())\n",
    "\n",
    "data.loc[surface_covered_log.index,\"surface_covered_log\"] = surface_covered_log"
   ]
  },
  {
   "cell_type": "markdown",
   "id": "bd9a582b",
   "metadata": {},
   "source": [
    "<a id=\"outli_amb\"></a>\n",
    "**3.6.Reemplazo de outliers en Ambientes**\n",
    "\n",
    "[volver a TOC](#section_toc)"
   ]
  },
  {
   "cell_type": "code",
   "execution_count": 85,
   "id": "9e471ebc",
   "metadata": {},
   "outputs": [
    {
     "name": "stdout",
     "output_type": "stream",
     "text": [
      "265.69751419855874\n"
     ]
    },
    {
     "data": {
      "text/plain": [
       "count    80671.000000\n",
       "mean         3.288716\n",
       "std         72.827535\n",
       "min          1.000000\n",
       "25%          2.000000\n",
       "50%          3.000000\n",
       "75%          4.000000\n",
       "max      20174.000000\n",
       "Name: ambientes, dtype: float64"
      ]
     },
     "execution_count": 85,
     "metadata": {},
     "output_type": "execute_result"
    }
   ],
   "source": [
    "# Empezamos por identificar outliers en ambientes\n",
    "# Ya en el max podemos ver un error de carga\n",
    "print(data['ambientes'].skew())\n",
    "data['ambientes'].describe()"
   ]
  },
  {
   "cell_type": "code",
   "execution_count": 86,
   "id": "f40d5c31",
   "metadata": {},
   "outputs": [
    {
     "name": "stdout",
     "output_type": "stream",
     "text": [
      "1.0\n",
      "5.0\n",
      "La asimetría se reduce modificando el outlier:  0.84\n"
     ]
    }
   ],
   "source": [
    "print(data['ambientes'].quantile(0.10))\n",
    "print(data['ambientes'].quantile(0.90))\n",
    "data[\"ambientes\"] = np.where(data[\"ambientes\"]>8,8,data[\"ambientes\"])\n",
    "print(\"La asimetría se reduce modificando el outlier: \",round(data[\"ambientes\"].skew(),2))"
   ]
  },
  {
   "cell_type": "code",
   "execution_count": 87,
   "id": "5e2703bc",
   "metadata": {},
   "outputs": [
    {
     "data": {
      "text/plain": [
       "<seaborn.axisgrid.FacetGrid at 0x7f2ab30378e0>"
      ]
     },
     "execution_count": 87,
     "metadata": {},
     "output_type": "execute_result"
    },
    {
     "data": {
      "image/png": "[encoded data removed]",
      "text/plain": [
       "<Figure size 448.5x360 with 1 Axes>"
      ]
     },
     "metadata": {
      "needs_background": "light"
     },
     "output_type": "display_data"
    }
   ],
   "source": [
    "# porcentaje de propiedades agrupadas por cantidad de amb,y\n",
    "# separadas por tipo\n",
    "(data\n",
    ".groupby('ambientes')['property_type']\n",
    ".value_counts(normalize=True)\n",
    ".mul(100)\n",
    ".rename('percent')\n",
    ".reset_index()\n",
    ".pipe((sns.catplot,'data'), x='ambientes',y='percent',hue='property_type',kind='bar',palette=\"rocket\"))"
   ]
  },
  {
   "cell_type": "markdown",
   "id": "35eaf665",
   "metadata": {},
   "source": [
    "<a id=\"outli_amb\"></a>\n",
    "**3.7.Trim para outliers en price_usd_clean**\n",
    "\n",
    "[volver a TOC](#section_toc)"
   ]
  },
  {
   "cell_type": "code",
   "execution_count": 88,
   "id": "d73f5f7c",
   "metadata": {},
   "outputs": [
    {
     "name": "stdout",
     "output_type": "stream",
     "text": [
      "6.687153568389313\n"
     ]
    },
    {
     "data": {
      "text/plain": [
       "count    9.076100e+04\n",
       "mean     2.104502e+05\n",
       "std      2.184331e+05\n",
       "min      4.952450e+03\n",
       "25%      9.000000e+04\n",
       "50%      1.430000e+05\n",
       "75%      2.500000e+05\n",
       "max      1.100000e+07\n",
       "Name: price_usd_clean, dtype: float64"
      ]
     },
     "execution_count": 88,
     "metadata": {},
     "output_type": "execute_result"
    }
   ],
   "source": [
    "print(data['price_usd_clean'].skew())\n",
    "data['price_usd_clean'].describe()"
   ]
  },
  {
   "cell_type": "code",
   "execution_count": 89,
   "id": "00eb0aa6",
   "metadata": {},
   "outputs": [],
   "source": [
    "dept_usd_idx = trim_outli(data,'apartment',4000,2500000,'price_usd_clean')\n",
    "casa_usd_idx = trim_outli(data,'house',4000,5000000,'price_usd_clean')\n",
    "ph_usd_idx = trim_outli(data,'PH',4000,600000,'price_usd_clean')\n",
    "store_usd_idx = trim_outli(data,'store',4000,2500000,'price_usd_clean')"
   ]
  },
  {
   "cell_type": "code",
   "execution_count": 90,
   "id": "50e4330c",
   "metadata": {},
   "outputs": [
    {
     "name": "stdout",
     "output_type": "stream",
     "text": [
      "2\n",
      "5\n",
      "7\n",
      "2\n"
     ]
    }
   ],
   "source": [
    "# cantidad de registros a sacar\n",
    "print(dept_usd_idx.shape[0])\n",
    "print(casa_usd_idx.shape[0])\n",
    "print(ph_usd_idx.shape[0])\n",
    "print(store_usd_idx.shape[0])"
   ]
  },
  {
   "cell_type": "code",
   "execution_count": 91,
   "id": "1c7d35e5",
   "metadata": {},
   "outputs": [],
   "source": [
    "# hacemos trim sobre los valores extremos de precio en usd\n",
    "# que hallamos en los gráficos\n",
    "\n",
    "data.drop(dept_usd_idx,inplace=True)\n",
    "data.drop(casa_usd_idx,inplace=True)\n",
    "data.drop(ph_usd_idx,inplace=True)\n",
    "data.drop(store_usd_idx,inplace=True)"
   ]
  },
  {
   "cell_type": "code",
   "execution_count": 92,
   "id": "acc19d56",
   "metadata": {},
   "outputs": [
    {
     "name": "stdout",
     "output_type": "stream",
     "text": [
      "4.054086840746922\n"
     ]
    }
   ],
   "source": [
    "print(data['price_usd_clean'].skew())"
   ]
  },
  {
   "cell_type": "markdown",
   "id": "b80401aa",
   "metadata": {},
   "source": [
    "<a id=\"section_elim_dup\"></a> \n",
    "## 4. Eliminacion de Duplicados\n",
    "Consideramos duplicados aquellos registros que coincidan en los campos:\n",
    "  * property_type\n",
    "  * place_name\n",
    "  * place_with_parent_names\n",
    "  * state_name \n",
    "  * surface_total_in_m2_clean\n",
    "  * surface_total_in_m2_clean\n",
    "  * title (transformado)\n",
    "\n",
    "[volver a TOC](#section_toc)"
   ]
  },
  {
   "cell_type": "code",
   "execution_count": 93,
   "id": "2660db2e",
   "metadata": {},
   "outputs": [
    {
     "data": {
      "text/plain": [
       "17720"
      ]
     },
     "execution_count": 93,
     "metadata": {},
     "output_type": "execute_result"
    }
   ],
   "source": [
    "# transformo el campo titulo \n",
    "title2=data['title'].str.upper()\n",
    "title2.replace(to_replace=r'\\s+', value='', regex=True,inplace=True)\n",
    "title2.replace(to_replace=r'[^\\w\\s]', value='', regex=True,inplace=True)\n",
    "\n",
    "data.loc[title2.notnull(),'title2'] = title2\n",
    "\n",
    "duplicados = ['property_type', 'place_name' ,'place_with_parent_names','state_name',\n",
    "              'surface_total_in_m2','surface_total_in_m2', 'title2']\n",
    "              \n",
    "data[duplicados].duplicated().sum()"
   ]
  },
  {
   "cell_type": "code",
   "execution_count": 94,
   "id": "f51353d1",
   "metadata": {},
   "outputs": [
    {
     "data": {
      "text/plain": [
       "(73025, 41)"
      ]
     },
     "metadata": {},
     "output_type": "display_data"
    }
   ],
   "source": [
    "data['largo_description'] = data['description'].apply(lambda x:len(str(x))) #me cuenta que tan largo es\n",
    "data = data.sort_values(by = ['largo_description'], ascending = False)      #me lo ordena de menor a mayor\n",
    "data = data.drop_duplicates(subset = duplicados, keep = 'first')\n",
    "display (data.shape)"
   ]
  },
  {
   "cell_type": "markdown",
   "id": "a4e61ebc",
   "metadata": {},
   "source": [
    "<a id=\"section_varnuevas\"></a>\n",
    "## 5. Nuevos Campos \n",
    "\n",
    "\n",
    "[5.1. Seguridad](#section_seguridad)\n",
    "\n",
    "[5.2. Jardin](#section_jardin)\n",
    "\n",
    "[5.3. A Estrenar](#section_estrenar)\n",
    "\n",
    "[5.4. Balcon](#section_balcon)\n",
    "\n",
    "[5.5. Terraza](#section_terraza)\n",
    "\n",
    "[5.6. Parrilla](#section_parrilla)\n",
    "\n",
    "[5.7. Pileta](#section_pileta)\n",
    "\n",
    "[5.8. Cochera](#section_cochera)\n",
    "\n",
    "[5.9. Vista al lago](#section_cochera)\n",
    "\n",
    "[5.10. Lavadero](#section_cochera)\n",
    "\n",
    "[5.11. Sum](#section_cochera)\n",
    "\n",
    "[5.9. Dummies para tipo de lugar](#section_dummies_place_type)\n",
    "\n",
    "[5.10. Provincia, ciudad, partido y barrio](#section_places)\n",
    "\n",
    "[volver a TOC](#section_toc)\n"
   ]
  },
  {
   "cell_type": "markdown",
   "id": "c19bd1e4",
   "metadata": {},
   "source": [
    "Funciones graficos:\n"
   ]
  },
  {
   "cell_type": "code",
   "execution_count": 95,
   "id": "09997386",
   "metadata": {},
   "outputs": [],
   "source": [
    "# genero regex en cada nuevo campo para poder calcular la cantidad que hay de cada valor y \n",
    "# asi utilizarlo en las funciones que cree (pie, barritas y division_precio )"
   ]
  },
  {
   "cell_type": "code",
   "execution_count": 96,
   "id": "1facaca9",
   "metadata": {},
   "outputs": [],
   "source": [
    "def pie (valor):\n",
    "    chart_pie = pd.DataFrame (data [valor].value_counts ())\n",
    "    chart_pie[valor + \" (%)\"] = round (pd.DataFrame (data[valor].value_counts())/data[valor].shape [0]*100,2)\n",
    "       \n",
    "    \n",
    "    f, (ax1) = plt.subplots (1)\n",
    "    f.set_figwidth (12)\n",
    "    f.set_figheight (4.5)\n",
    "    \n",
    "    ax1.pie (chart_pie [valor], labels = chart_pie.index, autopct = '%1.1f%%', shadow = True)\n",
    "\n",
    "    return"
   ]
  },
  {
   "cell_type": "code",
   "execution_count": 97,
   "id": "7b6d7674",
   "metadata": {},
   "outputs": [],
   "source": [
    "def barritas (valor):\n",
    "\n",
    "    chart_barritas = (data.groupby ('property_type')[valor].sum ()/ data.groupby ('property_type') [valor].count())*100\n",
    "    chart_barritas = pd.DataFrame (round (chart_barritas, 2))\n",
    "    chart_barritas = chart_barritas.reset_index ()\n",
    "\n",
    "    f, (ax1) = plt.subplots (1)\n",
    "    f.set_figwidth (12)\n",
    "    f.set_figheight (4.5)\n",
    "\n",
    "    sns.barplot (x = 'property_type', y = valor, data = chart_barritas, ax = ax1)\n",
    "   \n",
    "    return"
   ]
  },
  {
   "cell_type": "code",
   "execution_count": 98,
   "id": "3eee5336",
   "metadata": {},
   "outputs": [],
   "source": [
    "# data ['división_datos_precio'] = pd.qcut(data ['price_clean'],15, labels = [1,2,3,4,5,6,7,8,9,10,11,12,13,14,15]) \n",
    "# def division_precio (valor):\n",
    "    \n",
    "#     chart_division = (data.groupby ('división_datos_precio')[valor].sum ()/ data.groupby ('división_datos_precio') [valor].count())*100\n",
    "#     chart_division = pd.DataFrame (round (chart_division, 2))\n",
    "#     chart_division = chart_division.reset_index ()\n",
    "    \n",
    "#     f, (ax1) = plt.subplots (1)\n",
    "#     f.set_figwidth (12)\n",
    "#     f.set_figheight (4.5)\n",
    "    \n",
    "#     sns.barplot (x = 'división_datos_precio', y = valor, data = chart_division, color = \"#009966\", ax = ax1)\n",
    "   \n",
    "#     return"
   ]
  },
  {
   "cell_type": "markdown",
   "id": "ca2dca1f",
   "metadata": {},
   "source": [
    "  <a id=\"section_seguridad\"></a> \n",
    "\n",
    "**5.1. Seguridad**: utilizamos regexs para extraer el dato de las columnas titulo y descripcion\n",
    "\n",
    "[volver a TOC](#section_toc)"
   ]
  },
  {
   "cell_type": "code",
   "execution_count": 99,
   "id": "dd7469a7",
   "metadata": {},
   "outputs": [
    {
     "data": {
      "text/plain": [
       "0.0    63154\n",
       "1.0     9871\n",
       "Name: seguridad, dtype: int64"
      ]
     },
     "execution_count": 99,
     "metadata": {},
     "output_type": "execute_result"
    }
   ],
   "source": [
    "# Creo el campo seguridad\n",
    "pattern_seguridad = \"(?P<seg>seguridad|vigilancia|barrio cerrado|country|barrio privado)\"\n",
    "\n",
    "pattern_seguridad_regex = re.compile(pattern_seguridad,flags = re.IGNORECASE) #Perform case-insensitive matching\n",
    "\n",
    "rdo_desc = desc_series.apply(lambda x: x if x is np.NaN else pattern_seguridad_regex.search(x))\n",
    "rdo_title = title_series.apply(lambda x: x if x is np.NaN else pattern_seguridad_regex.search(x))\n",
    "\n",
    "data.loc[rdo_desc.notnull(),'seguridad'] = 1\n",
    "data.loc[rdo_title.notnull(),'seguridad'] = 1\n",
    "data['seguridad'].fillna(0,inplace=True)\n",
    "data['seguridad'].value_counts()"
   ]
  },
  {
   "cell_type": "code",
   "execution_count": 100,
   "id": "1f1ebd56",
   "metadata": {},
   "outputs": [],
   "source": [
    "# pie ('seguridad') "
   ]
  },
  {
   "cell_type": "code",
   "execution_count": 101,
   "id": "7d708f42",
   "metadata": {},
   "outputs": [],
   "source": [
    "# division_precio ('seguridad')"
   ]
  },
  {
   "cell_type": "code",
   "execution_count": 102,
   "id": "5240c9ed",
   "metadata": {},
   "outputs": [],
   "source": [
    "# barritas ('seguridad')"
   ]
  },
  {
   "cell_type": "code",
   "execution_count": 103,
   "id": "0e7dbb85",
   "metadata": {},
   "outputs": [],
   "source": [
    "# plt.figure(figsize =(8, 15))\n",
    "# sns.barplot(y = 'state_name', x = 'price_clean', hue = 'seguridad', data = data,  ci = None)"
   ]
  },
  {
   "cell_type": "markdown",
   "id": "885bdb2f",
   "metadata": {},
   "source": [
    "  <a id=\"section_jardin\"></a> \n",
    "\n",
    "**5.2. Jardin**: utilizamos regexs para extraer el dato de las columnas titulo y descripcion\n",
    "\n",
    "[volver a TOC](#section_toc)"
   ]
  },
  {
   "cell_type": "code",
   "execution_count": 104,
   "id": "21ca6b26",
   "metadata": {},
   "outputs": [
    {
     "data": {
      "text/plain": [
       "0.0    45625\n",
       "1.0    27400\n",
       "Name: jardin, dtype: int64"
      ]
     },
     "execution_count": 104,
     "metadata": {},
     "output_type": "execute_result"
    }
   ],
   "source": [
    "# Creo el campo jardin\n",
    "pattern_jardin = \"(?P<jardin>jardin|parque|patio)\"\n",
    "\n",
    "pattern_jardin_regex = re.compile(pattern_jardin,flags = re.IGNORECASE) #Perform case-insensitive matching\n",
    "\n",
    "rdo_desc = desc_series.apply(lambda x: x if x is np.NaN else pattern_jardin_regex.search(x))\n",
    "rdo_title = title_series.apply(lambda x: x if x is np.NaN else pattern_jardin_regex.search(x))\n",
    "\n",
    "data.loc[rdo_desc.notnull(),'jardin'] = 1\n",
    "data.loc[rdo_title.notnull(),'jardin'] = 1\n",
    "data['jardin'].fillna(0,inplace=True)\n",
    "data['jardin'].value_counts()"
   ]
  },
  {
   "cell_type": "code",
   "execution_count": 105,
   "id": "a0797e19",
   "metadata": {},
   "outputs": [],
   "source": [
    "# pie ('jardin') "
   ]
  },
  {
   "cell_type": "code",
   "execution_count": 106,
   "id": "58c9ff88",
   "metadata": {},
   "outputs": [],
   "source": [
    "# division_precio ('jardin')"
   ]
  },
  {
   "cell_type": "code",
   "execution_count": 107,
   "id": "82bf9beb",
   "metadata": {},
   "outputs": [],
   "source": [
    "# barritas ('jardin')"
   ]
  },
  {
   "cell_type": "code",
   "execution_count": 108,
   "id": "6c5829fb",
   "metadata": {},
   "outputs": [],
   "source": [
    "# plt.figure(figsize =(8, 15))\n",
    "# sns.barplot(y = 'state_name', x = 'price_clean', hue = 'jardin', data = data, ci=None)"
   ]
  },
  {
   "cell_type": "markdown",
   "id": "d976d09c",
   "metadata": {},
   "source": [
    "  <a id=\"section_estrenar\"></a> \n",
    "\n",
    "**5.3. A estrenar**: utilizamos regexs para extraer el dato de las columnas titulo y descripcion\n",
    "\n",
    "[volver a TOC](#section_toc)"
   ]
  },
  {
   "cell_type": "code",
   "execution_count": 109,
   "id": "2b1d8b4d",
   "metadata": {},
   "outputs": [
    {
     "data": {
      "text/plain": [
       "0.0    64640\n",
       "1.0     8385\n",
       "Name: a_estrenar, dtype: int64"
      ]
     },
     "execution_count": 109,
     "metadata": {},
     "output_type": "execute_result"
    }
   ],
   "source": [
    "# Creo el campo a_estrenar\n",
    "pattern_estrenar = \"(?P<estrenar>estrenar)\"\n",
    "\n",
    "pattern_estrenar_regex = re.compile(pattern_estrenar,flags = re.IGNORECASE) #Perform case-insensitive matching\n",
    "\n",
    "rdo_desc = desc_series.apply(lambda x: x if x is np.NaN else pattern_estrenar_regex.search(x))\n",
    "rdo_title = title_series.apply(lambda x: x if x is np.NaN else pattern_estrenar_regex.search(x))\n",
    "\n",
    "data.loc[rdo_desc.notnull(),'a_estrenar'] = 1\n",
    "data.loc[rdo_title.notnull(),'a_estrenar'] = 1\n",
    "data['a_estrenar'].fillna(0,inplace=True)\n",
    "data['a_estrenar'].value_counts()"
   ]
  },
  {
   "cell_type": "code",
   "execution_count": 110,
   "id": "2dabcfab",
   "metadata": {},
   "outputs": [],
   "source": [
    "# pie ('a_estrenar')"
   ]
  },
  {
   "cell_type": "code",
   "execution_count": 111,
   "id": "ab9b9e52",
   "metadata": {},
   "outputs": [],
   "source": [
    "# barritas ('a_estrenar')"
   ]
  },
  {
   "cell_type": "code",
   "execution_count": 112,
   "id": "4091e9f5",
   "metadata": {},
   "outputs": [],
   "source": [
    "# division_precio ('a_estrenar')"
   ]
  },
  {
   "cell_type": "code",
   "execution_count": 113,
   "id": "0743d9c9",
   "metadata": {},
   "outputs": [],
   "source": [
    "# plt.figure(figsize =(8, 15))\n",
    "# sns.barplot(y = 'state_name', x = 'price_clean', hue = 'a_estrenar', data = data, ci=None)"
   ]
  },
  {
   "cell_type": "markdown",
   "id": "5441e638",
   "metadata": {},
   "source": [
    "  <a id=\"section_balcon\"></a> \n",
    "\n",
    "**5.4. Balcon**: utilizamos regexs para extraer el dato de las columnas titulo y descripcion\n",
    "\n",
    "[volver a TOC](#section_toc)\n"
   ]
  },
  {
   "cell_type": "code",
   "execution_count": 114,
   "id": "6e81c839",
   "metadata": {},
   "outputs": [
    {
     "data": {
      "text/plain": [
       "0.0    62554\n",
       "1.0    10471\n",
       "Name: balcon, dtype: int64"
      ]
     },
     "execution_count": 114,
     "metadata": {},
     "output_type": "execute_result"
    }
   ],
   "source": [
    "# Creo el campo balcon\n",
    "pattern_balcon = \"(?P<balcon>balcon)\"\n",
    "pattern_balcon_regex = re.compile(pattern_balcon,flags = re.IGNORECASE) #Perform case-insensitive matching\n",
    "\n",
    "rdo_desc = desc_series.apply(lambda x: x if x is np.NaN else pattern_balcon_regex.search(x))\n",
    "rdo_title = title_series.apply(lambda x: x if x is np.NaN else pattern_balcon_regex.search(x))\n",
    "\n",
    "data.loc[rdo_desc.notnull(),'balcon'] = 1\n",
    "data.loc[rdo_title.notnull(),'balcon'] = 1\n",
    "\n",
    "# corrijo los casos donde lo que aclara es que no tiene balcon\n",
    "pattern_s_balcon = \"(sin balcon|s\\s?/\\s?bal)\"\n",
    "\n",
    "pattern_s_balcon_regex = re.compile(pattern_s_balcon,flags = re.IGNORECASE) #Perform case-insensitive matching\n",
    "\n",
    "rdo_desc = desc_series.apply(lambda x: x if x is np.NaN else pattern_s_balcon_regex.search(x))\n",
    "rdo_title = title_series.apply(lambda x: x if x is np.NaN else pattern_s_balcon_regex.search(x))\n",
    "\n",
    "data.loc[rdo_desc.notnull(),'balcon'] = 0\n",
    "data.loc[rdo_title.notnull(),'balcon'] = 0\n",
    "data['balcon'].fillna(0,inplace=True) # ver!! si no hago una diferenciacion por tipo de propiedad\n",
    "data['balcon'].value_counts()\n",
    "#data[(data['balcon']=='S') & (data['property_type']!='apartment')]"
   ]
  },
  {
   "cell_type": "code",
   "execution_count": 115,
   "id": "64f13324",
   "metadata": {},
   "outputs": [],
   "source": [
    "# barritas ('balcon')"
   ]
  },
  {
   "cell_type": "code",
   "execution_count": 116,
   "id": "75caa30d",
   "metadata": {},
   "outputs": [],
   "source": [
    "# division_precio ('balcon')"
   ]
  },
  {
   "cell_type": "code",
   "execution_count": 117,
   "id": "4c100f2a",
   "metadata": {},
   "outputs": [],
   "source": [
    "# pie ('balcon')"
   ]
  },
  {
   "cell_type": "code",
   "execution_count": 118,
   "id": "c4c97991",
   "metadata": {},
   "outputs": [],
   "source": [
    "# plt.figure(figsize =(8, 15))\n",
    "# sns.barplot(y = 'state_name', x = 'price_clean', hue = 'balcon', data = data, ci=None)"
   ]
  },
  {
   "cell_type": "markdown",
   "id": "ae0ddfea",
   "metadata": {},
   "source": [
    "  <a id=\"section_terraza\"></a> \n",
    "\n",
    "**5.5. Terraza**: utilizamos regexs para extraer el dato de las columnas titulo y descripcion\n",
    "\n",
    "[volver a TOC](#section_toc)"
   ]
  },
  {
   "cell_type": "code",
   "execution_count": 119,
   "id": "0a77b742",
   "metadata": {},
   "outputs": [
    {
     "data": {
      "text/plain": [
       "0.0    55462\n",
       "1.0    17563\n",
       "Name: terraza, dtype: int64"
      ]
     },
     "execution_count": 119,
     "metadata": {},
     "output_type": "execute_result"
    }
   ],
   "source": [
    "pattern_terraza = \"(?P<terraza>terraza)\"\n",
    "\n",
    "pattern_terraza_regex = re.compile(pattern_terraza,flags = re.IGNORECASE) #Perform case-insensitive matching\n",
    "\n",
    "rdo_desc = desc_series.apply(lambda x: x if x is np.NaN else pattern_terraza_regex.search(x))\n",
    "rdo_title = title_series.apply(lambda x: x if x is np.NaN else pattern_terraza_regex.search(x))\n",
    "\n",
    "data.loc[rdo_desc.notnull(),'terraza'] = 1\n",
    "data.loc[rdo_title.notnull(),'terraza'] = 1\n",
    "data['terraza'].fillna(0,inplace=True)\n",
    "data['terraza'].value_counts()"
   ]
  },
  {
   "cell_type": "code",
   "execution_count": 120,
   "id": "196d5b3a",
   "metadata": {},
   "outputs": [],
   "source": [
    "# pie ('terraza')"
   ]
  },
  {
   "cell_type": "code",
   "execution_count": 121,
   "id": "b25b4787",
   "metadata": {},
   "outputs": [],
   "source": [
    "# division_precio ('terraza')"
   ]
  },
  {
   "cell_type": "code",
   "execution_count": 122,
   "id": "e802c49f",
   "metadata": {},
   "outputs": [],
   "source": [
    "# barritas ('terraza')"
   ]
  },
  {
   "cell_type": "markdown",
   "id": "ee4b8b96",
   "metadata": {},
   "source": [
    "  <a id=\"section_parrilla\"></a> \n",
    "\n",
    "**5.6. Parrilla**: utilizamos regexs para extraer el dato de las columnas titulo y descripcion\n",
    "\n",
    "[volver a TOC](#section_toc)"
   ]
  },
  {
   "cell_type": "code",
   "execution_count": 123,
   "id": "e7585b58",
   "metadata": {},
   "outputs": [
    {
     "data": {
      "text/plain": [
       "0.0    49670\n",
       "1.0    23355\n",
       "Name: parrilla, dtype: int64"
      ]
     },
     "execution_count": 123,
     "metadata": {},
     "output_type": "execute_result"
    }
   ],
   "source": [
    "pattern_parrilla = \"(?P<parrilla>parrilla)\"\n",
    "\n",
    "pattern_parrilla_regex = re.compile(pattern_parrilla,flags = re.IGNORECASE) #Perform case-insensitive matching\n",
    "\n",
    "rdo_desc = desc_series.apply(lambda x: x if x is np.NaN else pattern_parrilla_regex.search(x))\n",
    "rdo_title = title_series.apply(lambda x: x if x is np.NaN else pattern_parrilla_regex.search(x))\n",
    "\n",
    "data.loc[rdo_desc.notnull(),'parrilla'] = 1\n",
    "data.loc[rdo_title.notnull(),'parrilla'] = 1\n",
    "data['parrilla'].fillna(0,inplace=True)\n",
    "data['parrilla'].value_counts()"
   ]
  },
  {
   "cell_type": "code",
   "execution_count": 124,
   "id": "110820d9",
   "metadata": {},
   "outputs": [],
   "source": [
    "# pie ('parrilla')"
   ]
  },
  {
   "cell_type": "code",
   "execution_count": 125,
   "id": "f61afa61",
   "metadata": {},
   "outputs": [],
   "source": [
    "# division_precio ('parrilla')"
   ]
  },
  {
   "cell_type": "code",
   "execution_count": 126,
   "id": "87a68aa8",
   "metadata": {},
   "outputs": [],
   "source": [
    "# barritas ('parrilla')"
   ]
  },
  {
   "cell_type": "markdown",
   "id": "244ac9cc",
   "metadata": {},
   "source": [
    "  <a id=\"section_pileta\"></a> \n",
    "\n",
    "**5.7. Pileta**: utilizamos regexs para extraer el dato de las columnas titulo y descripcion\n",
    "\n",
    "[volver a TOC](#section_toc)"
   ]
  },
  {
   "cell_type": "code",
   "execution_count": 127,
   "id": "077b6245",
   "metadata": {},
   "outputs": [
    {
     "data": {
      "text/plain": [
       "0.0    52439\n",
       "1.0    20586\n",
       "Name: pileta, dtype: int64"
      ]
     },
     "execution_count": 127,
     "metadata": {},
     "output_type": "execute_result"
    }
   ],
   "source": [
    "pattern_pileta = \"(?P<pileta>pileta|piscina)\"\n",
    "\n",
    "pattern_pileta_regex = re.compile(pattern_pileta,flags = re.IGNORECASE) #Perform case-insensitive matching\n",
    "\n",
    "rdo_desc = desc_series.apply(lambda x: x if x is np.NaN else pattern_pileta_regex.search(x))\n",
    "rdo_title = title_series.apply(lambda x: x if x is np.NaN else pattern_pileta_regex.search(x))\n",
    "\n",
    "data.loc[rdo_desc.notnull(),'pileta'] = 1\n",
    "data.loc[rdo_title.notnull(),'pileta'] = 1\n",
    "data['pileta'].fillna(0,inplace=True)\n",
    "data['pileta'].value_counts()"
   ]
  },
  {
   "cell_type": "code",
   "execution_count": 128,
   "id": "11612a90",
   "metadata": {},
   "outputs": [],
   "source": [
    "# pie ('pileta')"
   ]
  },
  {
   "cell_type": "code",
   "execution_count": 129,
   "id": "c316ecd8",
   "metadata": {},
   "outputs": [],
   "source": [
    "# barritas ('pileta')"
   ]
  },
  {
   "cell_type": "code",
   "execution_count": 130,
   "id": "9c17727c",
   "metadata": {},
   "outputs": [],
   "source": [
    "# division_precio ('pileta')    "
   ]
  },
  {
   "cell_type": "markdown",
   "id": "d78b0b8d",
   "metadata": {},
   "source": [
    "  <a id=\"section_cochera\"></a> \n",
    "\n",
    "**5.8. Cochera**: utilizamos regexs para extraer el dato de las columnas titulo y descripcion\n",
    "\n",
    "[volver a TOC](#section_toc)"
   ]
  },
  {
   "cell_type": "code",
   "execution_count": 131,
   "id": "fc24c068",
   "metadata": {},
   "outputs": [
    {
     "data": {
      "text/plain": [
       "0.0    47094\n",
       "1.0    25931\n",
       "Name: cochera, dtype: int64"
      ]
     },
     "execution_count": 131,
     "metadata": {},
     "output_type": "execute_result"
    }
   ],
   "source": [
    "# Creo el campo cochera\n",
    "pattern_cochera = \"(?P<cochera>cochera)\"\n",
    "pattern_cochera_regex = re.compile(pattern_cochera,flags = re.IGNORECASE) #Perform case-insensitive matching\n",
    "\n",
    "rdo_desc = desc_series.apply(lambda x: x if x is np.NaN else pattern_cochera_regex.search(x))\n",
    "rdo_title = title_series.apply(lambda x: x if x is np.NaN else pattern_cochera_regex.search(x))\n",
    "\n",
    "data.loc[rdo_desc.notnull(),'cochera'] = 1\n",
    "data.loc[rdo_title.notnull(),'cochera'] = 1\n",
    "\n",
    "# corrijo los casos donde lo que aclara es que no tiene cochera\n",
    "pattern_s_cochera = \"(sin cochera|s\\s?/\\s?cochera)\"\n",
    "\n",
    "pattern_s_cochera_regex = re.compile(pattern_s_cochera,flags = re.IGNORECASE) #Perform case-insensitive matching\n",
    "\n",
    "rdo_desc = desc_series.apply(lambda x: x if x is np.NaN else pattern_s_cochera_regex.search(x))\n",
    "rdo_title = title_series.apply(lambda x: x if x is np.NaN else pattern_s_cochera_regex.search(x))\n",
    "\n",
    "data.loc[rdo_desc.notnull(),'cochera'] = 0\n",
    "data.loc[rdo_title.notnull(),'cochera'] =0\n",
    "data['cochera'].fillna(0,inplace=True)\n",
    "data['cochera'].value_counts()\n",
    "#data[(data['balcon']=='S') & (data['property_type']!='apartment')]\n"
   ]
  },
  {
   "cell_type": "markdown",
   "id": "f285d4b0",
   "metadata": {},
   "source": [
    "  <a id=\"section_lago\"></a> \n",
    "\n",
    "**5.9. Vista al lago**: utilizamos regexs para extraer el dato de las columnas titulo y descripcion\n",
    "\n",
    "[volver a TOC](#section_toc)"
   ]
  },
  {
   "cell_type": "code",
   "execution_count": 132,
   "id": "b31a5347",
   "metadata": {},
   "outputs": [
    {
     "data": {
      "text/plain": [
       "0.0    69657\n",
       "1.0     3368\n",
       "Name: lago, dtype: int64"
      ]
     },
     "execution_count": 132,
     "metadata": {},
     "output_type": "execute_result"
    }
   ],
   "source": [
    "# Creo el campo lago\n",
    "pattern_lago = \"(?P<lago>lago|laguna)\"\n",
    "pattern_lago_regex = re.compile(pattern_lago,flags = re.IGNORECASE) #Perform case-insensitive matching\n",
    "\n",
    "rdo_desc = desc_series.apply(lambda x: x if x is np.NaN else pattern_lago_regex.search(x))\n",
    "rdo_title = title_series.apply(lambda x: x if x is np.NaN else pattern_lago_regex.search(x))\n",
    "\n",
    "data.loc[rdo_desc.notnull(),'lago'] = 1\n",
    "data.loc[rdo_title.notnull(),'lago'] = 1\n",
    "\n",
    "data['lago'].fillna(0,inplace=True)\n",
    "data['lago'].value_counts()"
   ]
  },
  {
   "cell_type": "markdown",
   "id": "257c6879",
   "metadata": {},
   "source": [
    "  <a id=\"section_lavadero\"></a> \n",
    "\n",
    "**5.10. Lavadero**: utilizamos regexs para extraer el dato de las columnas titulo y descripcion\n",
    "\n",
    "[volver a TOC](#section_toc)"
   ]
  },
  {
   "cell_type": "code",
   "execution_count": 133,
   "id": "17c26760",
   "metadata": {},
   "outputs": [
    {
     "data": {
      "text/plain": [
       "0.0    42853\n",
       "1.0    30172\n",
       "Name: lavadero, dtype: int64"
      ]
     },
     "execution_count": 133,
     "metadata": {},
     "output_type": "execute_result"
    }
   ],
   "source": [
    "# Creo el campo lavadero\n",
    "pattern_lavadero = \"(?P<lavadero>lavadero|laundry)\"\n",
    "pattern_lavadero_regex = re.compile(pattern_lavadero,flags = re.IGNORECASE) #Perform case-insensitive matching\n",
    "\n",
    "rdo_desc = desc_series.apply(lambda x: x if x is np.NaN else pattern_lavadero_regex.search(x))\n",
    "rdo_title = title_series.apply(lambda x: x if x is np.NaN else pattern_lavadero_regex.search(x))\n",
    "\n",
    "data.loc[rdo_desc.notnull(),'lavadero'] = 1\n",
    "data.loc[rdo_title.notnull(),'lavadero'] = 1\n",
    "\n",
    "data['lavadero'].fillna(0,inplace=True)\n",
    "data['lavadero'].value_counts()"
   ]
  },
  {
   "cell_type": "markdown",
   "id": "860333b5",
   "metadata": {},
   "source": [
    "  <a id=\"section_sum\"></a> \n",
    "\n",
    "**5.11. SUM**: utilizamos regexs para extraer el dato de las columnas titulo y descripcion\n",
    "\n",
    "[volver a TOC](#section_toc)"
   ]
  },
  {
   "cell_type": "code",
   "execution_count": 134,
   "id": "9ffcd579",
   "metadata": {},
   "outputs": [
    {
     "data": {
      "text/plain": [
       "0.0    63579\n",
       "1.0     9446\n",
       "Name: sum, dtype: int64"
      ]
     },
     "execution_count": 134,
     "metadata": {},
     "output_type": "execute_result"
    }
   ],
   "source": [
    "pattern_sum = \"(?P<sum>sum|s.u.m)\"\n",
    "pattern_sum_regex = re.compile(pattern_sum,flags = re.IGNORECASE) #Perform case-insensitive matching\n",
    "\n",
    "rdo_desc = desc_series.apply(lambda x: x if x is np.NaN else pattern_sum_regex.search(x))\n",
    "rdo_title = title_series.apply(lambda x: x if x is np.NaN else pattern_sum_regex.search(x))\n",
    "\n",
    "data.loc[rdo_desc.notnull(),'sum'] = 1\n",
    "data.loc[rdo_title.notnull(),'sum'] = 1\n",
    "\n",
    "data['sum'].fillna(0,inplace=True)\n",
    "data['sum'].value_counts()"
   ]
  },
  {
   "cell_type": "markdown",
   "id": "243e6d6b",
   "metadata": {},
   "source": [
    "##### **5.12. Provincia, ciudad, partido y barrio**  <a name=\"section_places\"></a>\n",
    "\n",
    "[volver a TOC](#section_toc)"
   ]
  },
  {
   "cell_type": "code",
   "execution_count": 135,
   "id": "9afe1130",
   "metadata": {},
   "outputs": [],
   "source": [
    "def get_place_type(place):\n",
    "    s = place.strip('|').split('|')\n",
    "    if(s[1]=='Capital Federal'):\n",
    "        if(len(s)==2):\n",
    "            return \"ciudad\"\n",
    "        else:\n",
    "            return \"barrio\"\n",
    "    elif(s[1]=='Buenos Aires Interior'):\n",
    "        if(len(s)==2):\n",
    "            return \"provincia\"\n",
    "        elif(len(s)==3):\n",
    "            return \"partido\"\n",
    "        else:\n",
    "            return \"ciudad\"\n",
    "    elif(s[1]=='Bs.As. G.B.A. Zona Norte' or s[1]=='Bs.As. G.B.A. Zona Sur' or s[1]=='Bs.As. G.B.A. Zona Oeste'):\n",
    "        if(len(s)==2):\n",
    "            return \"provincia\"\n",
    "        elif(len(s)==3):\n",
    "            return \"partido\"\n",
    "        elif(len(s)==4):\n",
    "            if(s[3].lower().find('barrio')!=-1 or s[3].lower().find('country')!=-1):\n",
    "                return \"barrio\"\n",
    "            else:\n",
    "                return \"ciudad\"\n",
    "        else:\n",
    "            return \"barrio\"\n",
    "    elif(s[1]=='Buenos Aires Costa Atlántica'):\n",
    "        if(len(s)==2):\n",
    "            return \"provincia\"\n",
    "        elif(len(s)==3):\n",
    "            return \"ciudad\"\n",
    "        else:\n",
    "            return \"barrio\"\n",
    "    else:\n",
    "        if(len(s)==2):\n",
    "            return \"provincia\"\n",
    "        else:\n",
    "            return \"ciudad\""
   ]
  },
  {
   "cell_type": "code",
   "execution_count": 136,
   "id": "4e74e16e",
   "metadata": {},
   "outputs": [],
   "source": [
    "parent_names = data['place_with_parent_names']"
   ]
  },
  {
   "cell_type": "code",
   "execution_count": 137,
   "id": "be3d5462",
   "metadata": {},
   "outputs": [],
   "source": [
    "place_type = parent_names.apply(get_place_type)"
   ]
  },
  {
   "cell_type": "code",
   "execution_count": 138,
   "id": "9a4058ef",
   "metadata": {},
   "outputs": [],
   "source": [
    "data['place_type'] = place_type"
   ]
  },
  {
   "cell_type": "code",
   "execution_count": 139,
   "id": "5d2fa27b",
   "metadata": {},
   "outputs": [
    {
     "data": {
      "text/html": [
       "<div>\n",
       "<style scoped>\n",
       "    .dataframe tbody tr th:only-of-type {\n",
       "        vertical-align: middle;\n",
       "    }\n",
       "\n",
       "    .dataframe tbody tr th {\n",
       "        vertical-align: top;\n",
       "    }\n",
       "\n",
       "    .dataframe thead th {\n",
       "        text-align: right;\n",
       "    }\n",
       "</style>\n",
       "<table border=\"1\" class=\"dataframe\">\n",
       "  <thead>\n",
       "    <tr style=\"text-align: right;\">\n",
       "      <th></th>\n",
       "      <th>operation</th>\n",
       "      <th>property_type</th>\n",
       "      <th>place_name</th>\n",
       "      <th>place_with_parent_names</th>\n",
       "      <th>country_name</th>\n",
       "      <th>state_name</th>\n",
       "      <th>geonames_id</th>\n",
       "      <th>lat-lon</th>\n",
       "      <th>lat</th>\n",
       "      <th>lon</th>\n",
       "      <th>price</th>\n",
       "      <th>currency</th>\n",
       "      <th>price_aprox_local_currency</th>\n",
       "      <th>price_aprox_usd</th>\n",
       "      <th>surface_total_in_m2</th>\n",
       "      <th>surface_covered_in_m2</th>\n",
       "      <th>price_usd_per_m2</th>\n",
       "      <th>price_per_m2</th>\n",
       "      <th>floor</th>\n",
       "      <th>rooms</th>\n",
       "      <th>expenses</th>\n",
       "      <th>description</th>\n",
       "      <th>title</th>\n",
       "      <th>price_usd_clean</th>\n",
       "      <th>price_clean</th>\n",
       "      <th>currency_clean</th>\n",
       "      <th>price_local_currency_clean</th>\n",
       "      <th>surface_total_in_m2_clean</th>\n",
       "      <th>surface_covered_in_m2_clean</th>\n",
       "      <th>surface_total_in_m2_regex</th>\n",
       "      <th>surface_covered_in_m2_regex</th>\n",
       "      <th>rooms_regex</th>\n",
       "      <th>ambientes</th>\n",
       "      <th>ambientes_regex</th>\n",
       "      <th>clean_floor</th>\n",
       "      <th>price_usd_per_m2_clean</th>\n",
       "      <th>price_per_m2_clean</th>\n",
       "      <th>surface_total_log</th>\n",
       "      <th>surface_covered_log</th>\n",
       "      <th>title2</th>\n",
       "      <th>largo_description</th>\n",
       "      <th>seguridad</th>\n",
       "      <th>jardin</th>\n",
       "      <th>a_estrenar</th>\n",
       "      <th>balcon</th>\n",
       "      <th>terraza</th>\n",
       "      <th>parrilla</th>\n",
       "      <th>pileta</th>\n",
       "      <th>cochera</th>\n",
       "      <th>lago</th>\n",
       "      <th>lavadero</th>\n",
       "      <th>sum</th>\n",
       "      <th>place_type_lbl_barrio</th>\n",
       "      <th>place_type_lbl_ciudad</th>\n",
       "      <th>place_type_lbl_partido</th>\n",
       "      <th>place_type_lbl_provincia</th>\n",
       "    </tr>\n",
       "  </thead>\n",
       "  <tbody>\n",
       "    <tr>\n",
       "      <th>2907</th>\n",
       "      <td>sell</td>\n",
       "      <td>house</td>\n",
       "      <td>Tigre</td>\n",
       "      <td>|Argentina|Bs.As. G.B.A. Zona Norte|Tigre|</td>\n",
       "      <td>Argentina</td>\n",
       "      <td>Bs.As. G.B.A. Zona Norte</td>\n",
       "      <td>3427753.0</td>\n",
       "      <td>-34.3782959,-58.69849014</td>\n",
       "      <td>-34.378296</td>\n",
       "      <td>-58.698490</td>\n",
       "      <td>NaN</td>\n",
       "      <td>NaN</td>\n",
       "      <td>NaN</td>\n",
       "      <td>NaN</td>\n",
       "      <td>316.0</td>\n",
       "      <td>263.0</td>\n",
       "      <td>NaN</td>\n",
       "      <td>NaN</td>\n",
       "      <td>NaN</td>\n",
       "      <td>3.0</td>\n",
       "      <td>NaN</td>\n",
       "      <td>Hermosa casa a la laguna en uno de los mejores...</td>\n",
       "      <td>U$D 457.000 - Casa en Venta -</td>\n",
       "      <td>457000.0</td>\n",
       "      <td>457000.0</td>\n",
       "      <td>USD</td>\n",
       "      <td>8063536.5</td>\n",
       "      <td>316.0</td>\n",
       "      <td>263.0</td>\n",
       "      <td>0.0</td>\n",
       "      <td>0.0</td>\n",
       "      <td>2.0</td>\n",
       "      <td>3.0</td>\n",
       "      <td>3.0</td>\n",
       "      <td>NaN</td>\n",
       "      <td>1446.202532</td>\n",
       "      <td>1446.202532</td>\n",
       "      <td>5.755742</td>\n",
       "      <td>5.572154</td>\n",
       "      <td>UD457000CASAENVENTA</td>\n",
       "      <td>16920</td>\n",
       "      <td>1.0</td>\n",
       "      <td>0.0</td>\n",
       "      <td>0.0</td>\n",
       "      <td>0.0</td>\n",
       "      <td>1.0</td>\n",
       "      <td>1.0</td>\n",
       "      <td>1.0</td>\n",
       "      <td>1.0</td>\n",
       "      <td>1.0</td>\n",
       "      <td>1.0</td>\n",
       "      <td>0.0</td>\n",
       "      <td>0</td>\n",
       "      <td>0</td>\n",
       "      <td>1</td>\n",
       "      <td>0</td>\n",
       "    </tr>\n",
       "    <tr>\n",
       "      <th>5179</th>\n",
       "      <td>sell</td>\n",
       "      <td>house</td>\n",
       "      <td>Tigre</td>\n",
       "      <td>|Argentina|Bs.As. G.B.A. Zona Norte|Tigre|Tigre|</td>\n",
       "      <td>Argentina</td>\n",
       "      <td>Bs.As. G.B.A. Zona Norte</td>\n",
       "      <td>NaN</td>\n",
       "      <td>-34.447361,-58.631426</td>\n",
       "      <td>-34.447361</td>\n",
       "      <td>-58.631426</td>\n",
       "      <td>345000.0</td>\n",
       "      <td>USD</td>\n",
       "      <td>6087352.5</td>\n",
       "      <td>345000.0</td>\n",
       "      <td>849.0</td>\n",
       "      <td>209.0</td>\n",
       "      <td>406.360424</td>\n",
       "      <td>1650.717703</td>\n",
       "      <td>NaN</td>\n",
       "      <td>3.0</td>\n",
       "      <td>NaN</td>\n",
       "      <td>Casa en venta en el barrio cerrado San Gabriel...</td>\n",
       "      <td>CASA en VENTA en COMPLEJO VILLA NUEVA - San Ga...</td>\n",
       "      <td>345000.0</td>\n",
       "      <td>345000.0</td>\n",
       "      <td>USD</td>\n",
       "      <td>6087352.5</td>\n",
       "      <td>849.0</td>\n",
       "      <td>209.0</td>\n",
       "      <td>0.0</td>\n",
       "      <td>0.0</td>\n",
       "      <td>NaN</td>\n",
       "      <td>3.0</td>\n",
       "      <td>NaN</td>\n",
       "      <td>NaN</td>\n",
       "      <td>406.360424</td>\n",
       "      <td>406.360424</td>\n",
       "      <td>6.744059</td>\n",
       "      <td>5.342334</td>\n",
       "      <td>CASAENVENTAENCOMPLEJOVILLANUEVASANGABRIEL</td>\n",
       "      <td>16319</td>\n",
       "      <td>1.0</td>\n",
       "      <td>0.0</td>\n",
       "      <td>0.0</td>\n",
       "      <td>0.0</td>\n",
       "      <td>1.0</td>\n",
       "      <td>1.0</td>\n",
       "      <td>1.0</td>\n",
       "      <td>1.0</td>\n",
       "      <td>1.0</td>\n",
       "      <td>1.0</td>\n",
       "      <td>0.0</td>\n",
       "      <td>0</td>\n",
       "      <td>1</td>\n",
       "      <td>0</td>\n",
       "      <td>0</td>\n",
       "    </tr>\n",
       "    <tr>\n",
       "      <th>2282</th>\n",
       "      <td>sell</td>\n",
       "      <td>house</td>\n",
       "      <td>Tigre</td>\n",
       "      <td>|Argentina|Bs.As. G.B.A. Zona Norte|Tigre|</td>\n",
       "      <td>Argentina</td>\n",
       "      <td>Bs.As. G.B.A. Zona Norte</td>\n",
       "      <td>3427753.0</td>\n",
       "      <td>-34.36105728,-58.68397903</td>\n",
       "      <td>-34.361057</td>\n",
       "      <td>-58.683979</td>\n",
       "      <td>NaN</td>\n",
       "      <td>NaN</td>\n",
       "      <td>NaN</td>\n",
       "      <td>NaN</td>\n",
       "      <td>303.0</td>\n",
       "      <td>241.0</td>\n",
       "      <td>NaN</td>\n",
       "      <td>NaN</td>\n",
       "      <td>NaN</td>\n",
       "      <td>3.0</td>\n",
       "      <td>NaN</td>\n",
       "      <td>Casa a la laguna en el Barrio San Francisco, u...</td>\n",
       "      <td>U$D 479.000 - Casa en Venta -</td>\n",
       "      <td>479000.0</td>\n",
       "      <td>479000.0</td>\n",
       "      <td>USD</td>\n",
       "      <td>8451715.5</td>\n",
       "      <td>303.0</td>\n",
       "      <td>241.0</td>\n",
       "      <td>1116.0</td>\n",
       "      <td>1116.0</td>\n",
       "      <td>3.0</td>\n",
       "      <td>3.0</td>\n",
       "      <td>4.0</td>\n",
       "      <td>NaN</td>\n",
       "      <td>1580.858086</td>\n",
       "      <td>1580.858086</td>\n",
       "      <td>5.713733</td>\n",
       "      <td>5.484797</td>\n",
       "      <td>UD479000CASAENVENTA</td>\n",
       "      <td>16056</td>\n",
       "      <td>1.0</td>\n",
       "      <td>1.0</td>\n",
       "      <td>0.0</td>\n",
       "      <td>0.0</td>\n",
       "      <td>1.0</td>\n",
       "      <td>1.0</td>\n",
       "      <td>1.0</td>\n",
       "      <td>1.0</td>\n",
       "      <td>1.0</td>\n",
       "      <td>1.0</td>\n",
       "      <td>0.0</td>\n",
       "      <td>0</td>\n",
       "      <td>0</td>\n",
       "      <td>1</td>\n",
       "      <td>0</td>\n",
       "    </tr>\n",
       "  </tbody>\n",
       "</table>\n",
       "</div>"
      ],
      "text/plain": [
       "     operation property_type place_name  \\\n",
       "2907      sell         house      Tigre   \n",
       "5179      sell         house      Tigre   \n",
       "2282      sell         house      Tigre   \n",
       "\n",
       "                               place_with_parent_names country_name  \\\n",
       "2907        |Argentina|Bs.As. G.B.A. Zona Norte|Tigre|    Argentina   \n",
       "5179  |Argentina|Bs.As. G.B.A. Zona Norte|Tigre|Tigre|    Argentina   \n",
       "2282        |Argentina|Bs.As. G.B.A. Zona Norte|Tigre|    Argentina   \n",
       "\n",
       "                    state_name  geonames_id                    lat-lon  \\\n",
       "2907  Bs.As. G.B.A. Zona Norte    3427753.0   -34.3782959,-58.69849014   \n",
       "5179  Bs.As. G.B.A. Zona Norte          NaN      -34.447361,-58.631426   \n",
       "2282  Bs.As. G.B.A. Zona Norte    3427753.0  -34.36105728,-58.68397903   \n",
       "\n",
       "            lat        lon     price currency  price_aprox_local_currency  \\\n",
       "2907 -34.378296 -58.698490       NaN      NaN                         NaN   \n",
       "5179 -34.447361 -58.631426  345000.0      USD                   6087352.5   \n",
       "2282 -34.361057 -58.683979       NaN      NaN                         NaN   \n",
       "\n",
       "      price_aprox_usd  surface_total_in_m2  surface_covered_in_m2  \\\n",
       "2907              NaN                316.0                  263.0   \n",
       "5179         345000.0                849.0                  209.0   \n",
       "2282              NaN                303.0                  241.0   \n",
       "\n",
       "      price_usd_per_m2  price_per_m2  floor  rooms  expenses  \\\n",
       "2907               NaN           NaN    NaN    3.0       NaN   \n",
       "5179        406.360424   1650.717703    NaN    3.0       NaN   \n",
       "2282               NaN           NaN    NaN    3.0       NaN   \n",
       "\n",
       "                                            description  \\\n",
       "2907  Hermosa casa a la laguna en uno de los mejores...   \n",
       "5179  Casa en venta en el barrio cerrado San Gabriel...   \n",
       "2282  Casa a la laguna en el Barrio San Francisco, u...   \n",
       "\n",
       "                                                  title  price_usd_clean  \\\n",
       "2907                    U$D 457.000 - Casa en Venta -           457000.0   \n",
       "5179  CASA en VENTA en COMPLEJO VILLA NUEVA - San Ga...         345000.0   \n",
       "2282                    U$D 479.000 - Casa en Venta -           479000.0   \n",
       "\n",
       "      price_clean currency_clean  price_local_currency_clean  \\\n",
       "2907     457000.0            USD                   8063536.5   \n",
       "5179     345000.0            USD                   6087352.5   \n",
       "2282     479000.0            USD                   8451715.5   \n",
       "\n",
       "      surface_total_in_m2_clean  surface_covered_in_m2_clean  \\\n",
       "2907                      316.0                        263.0   \n",
       "5179                      849.0                        209.0   \n",
       "2282                      303.0                        241.0   \n",
       "\n",
       "      surface_total_in_m2_regex  surface_covered_in_m2_regex  rooms_regex  \\\n",
       "2907                        0.0                          0.0          2.0   \n",
       "5179                        0.0                          0.0          NaN   \n",
       "2282                     1116.0                       1116.0          3.0   \n",
       "\n",
       "      ambientes  ambientes_regex  clean_floor  price_usd_per_m2_clean  \\\n",
       "2907        3.0              3.0          NaN             1446.202532   \n",
       "5179        3.0              NaN          NaN              406.360424   \n",
       "2282        3.0              4.0          NaN             1580.858086   \n",
       "\n",
       "      price_per_m2_clean  surface_total_log  surface_covered_log  \\\n",
       "2907         1446.202532           5.755742             5.572154   \n",
       "5179          406.360424           6.744059             5.342334   \n",
       "2282         1580.858086           5.713733             5.484797   \n",
       "\n",
       "                                         title2  largo_description  seguridad  \\\n",
       "2907                        UD457000CASAENVENTA              16920        1.0   \n",
       "5179  CASAENVENTAENCOMPLEJOVILLANUEVASANGABRIEL              16319        1.0   \n",
       "2282                        UD479000CASAENVENTA              16056        1.0   \n",
       "\n",
       "      jardin  a_estrenar  balcon  terraza  parrilla  pileta  cochera  lago  \\\n",
       "2907     0.0         0.0     0.0      1.0       1.0     1.0      1.0   1.0   \n",
       "5179     0.0         0.0     0.0      1.0       1.0     1.0      1.0   1.0   \n",
       "2282     1.0         0.0     0.0      1.0       1.0     1.0      1.0   1.0   \n",
       "\n",
       "      lavadero  sum  place_type_lbl_barrio  place_type_lbl_ciudad  \\\n",
       "2907       1.0  0.0                      0                      0   \n",
       "5179       1.0  0.0                      0                      1   \n",
       "2282       1.0  0.0                      0                      0   \n",
       "\n",
       "      place_type_lbl_partido  place_type_lbl_provincia  \n",
       "2907                       1                         0  \n",
       "5179                       0                         0  \n",
       "2282                       1                         0  "
      ]
     },
     "execution_count": 139,
     "metadata": {},
     "output_type": "execute_result"
    }
   ],
   "source": [
    "dummies_place_type_lbl = pd.get_dummies(data[\"place_type\"],prefix=\"place_type_lbl\",drop_first=False)\n",
    "data_with_dummies = data.join(dummies_place_type_lbl)\n",
    "\n",
    "data_result = data_with_dummies.drop(labels=['place_type'], axis=\"columns\")\n",
    "data_result.head(3)"
   ]
  },
  {
   "cell_type": "code",
   "execution_count": 140,
   "id": "fb650657",
   "metadata": {},
   "outputs": [],
   "source": [
    "#col provincia\n",
    "bs_as= ['Capital Federal','Bs.As. G.B.A. Zona Norte','Bs.As. G.B.A. Zona Sur','Buenos Aires Costa Atlántica','Bs.As. G.B.A. Zona Oeste','Buenos Aires Interior']\n",
    "provincia = data[\"state_name\"].apply(lambda x:x if x not in bs_as else \"Buenos Aires\")\n",
    "data[\"provincia\"] = provincia"
   ]
  },
  {
   "cell_type": "code",
   "execution_count": 141,
   "id": "91d5db62",
   "metadata": {},
   "outputs": [],
   "source": [
    "def get_parent_city(place):\n",
    "    p = place.strip('|').split('|')\n",
    "    if(len(p)>3 and p[1]=='Capital Federal'):\n",
    "        return p[-3]\n",
    "    elif (len(p)==4 and (p[1]=='Bs.As. G.B.A. Zona Norte' or p[1]=='Bs.As. G.B.A. Zona Sur' or p[1]=='Bs.As. G.B.A. Zona Oeste' or p[1]=='Buenos Aires Interior')):\n",
    "        return \"N.A\"\n",
    "    else:\n",
    "        return p[-2]"
   ]
  },
  {
   "cell_type": "code",
   "execution_count": 142,
   "id": "dc6c07b9",
   "metadata": {},
   "outputs": [],
   "source": [
    "#col ciudad\n",
    "#obtenemos registros que llegan hasta nivel de ciudad\n",
    "city_dummie_mask = data_with_dummies['place_type_lbl_ciudad'] == 1\n",
    "nivel_ciudad = data_with_dummies[city_dummie_mask]\n",
    "ciudad = nivel_ciudad[\"place_name\"]\n",
    "#obtenemos registros que llegan hasta nivel de barrio\n",
    "#para luego saber a qué ciudad pertenecen\n",
    "barrio_dummie_mask = data_with_dummies['place_type_lbl_barrio'] == 1\n",
    "barrio = data_with_dummies[barrio_dummie_mask]\n",
    "ciudad_barrio = barrio['place_with_parent_names'].apply(get_parent_city)\n",
    "ciudad_barrio\n",
    "#definimos col ciudad\n",
    "data.loc[ciudad.index,\"ciudad\"] = ciudad\n",
    "data.loc[ciudad_barrio.index,\"ciudad\"] = ciudad_barrio\n",
    "#completamos con N.A si no corresponde indicar ciudad\n",
    "city_fill = data[\"ciudad\"].fillna(\"N.A\")\n",
    "data[\"ciudad\"] = city_fill"
   ]
  },
  {
   "cell_type": "code",
   "execution_count": 143,
   "id": "97fd1292",
   "metadata": {},
   "outputs": [
    {
     "data": {
      "text/plain": [
       "2907          N.A\n",
       "5179          N.A\n",
       "2282          N.A\n",
       "2079          N.A\n",
       "112428        N.A\n",
       "           ...   \n",
       "50342         N.A\n",
       "28489     Palermo\n",
       "82056         N.A\n",
       "30598     Almagro\n",
       "67371         N.A\n",
       "Name: barrio, Length: 73025, dtype: object"
      ]
     },
     "execution_count": 143,
     "metadata": {},
     "output_type": "execute_result"
    }
   ],
   "source": [
    "#col barrio\n",
    "barrio_name = barrio[\"place_name\"]\n",
    "data.loc[barrio_name.index,\"barrio\"] = barrio_name\n",
    "barrio_fill = data[\"barrio\"].fillna(\"N.A\")\n",
    "data[\"barrio\"] = barrio_fill\n",
    "data[\"barrio\"]"
   ]
  },
  {
   "cell_type": "code",
   "execution_count": 144,
   "id": "33fef8c8",
   "metadata": {},
   "outputs": [],
   "source": [
    "#col partidos\n",
    "#completamos place_name faltantes\n",
    "null_place_name_mask = data['place_name'].isnull()\n",
    "null_place_name = data[null_place_name_mask]\n",
    "place_name_fill = data[\"place_name\"].fillna(\"Tigre\")\n",
    "data[\"place_name\"] = place_name_fill"
   ]
  },
  {
   "cell_type": "code",
   "execution_count": 145,
   "id": "2eeb931d",
   "metadata": {},
   "outputs": [],
   "source": [
    "def get_parent_partido(place):\n",
    "    p = place.strip('|').split('|')\n",
    "    if(len(p)==4):\n",
    "        return p[-2]\n",
    "    elif(len(p)>=5):\n",
    "        return p[-3]"
   ]
  },
  {
   "cell_type": "code",
   "execution_count": 146,
   "id": "9438f226",
   "metadata": {},
   "outputs": [],
   "source": [
    "#obtenemos registros que llegan hasta nivel de partido\n",
    "partido_dummie_mask = data_with_dummies['place_type_lbl_partido'] == 1\n",
    "nivel_partido = data_with_dummies[partido_dummie_mask]\n",
    "partido = nivel_partido[\"place_name\"]\n",
    "\n",
    "#obtenemos barrios o ciudades que estén en BA interior,N,S y O\n",
    "zonas_ba = ['Bs.As. G.B.A. Zona Norte','Bs.As. G.B.A. Zona Sur','Bs.As. G.B.A. Zona Oeste','Buenos Aires Interior']\n",
    "zonas_ba_mask = data_with_dummies['state_name'].apply(lambda x:True if x in zonas_ba else False)\n",
    "ba = data_with_dummies[zonas_ba_mask]\n",
    "\n",
    "#obtenemos partidos de ciudades de BsAs\n",
    "ba_cities_mask = ba['place_type_lbl_ciudad']==1\n",
    "ba_cities = ba.loc[ba_cities_mask,\"place_with_parent_names\"]\n",
    "ba_cities_partido = ba_cities.apply(get_parent_partido)\n",
    "\n",
    "#obtenemos partidos de barrios de BsAs\n",
    "ba_barrios_mask = ba['place_type_lbl_barrio']==1\n",
    "ba_barrios = ba.loc[ba_barrios_mask,\"place_with_parent_names\"]\n",
    "ba_barrios_partido = ba_barrios.apply(get_parent_partido)\n",
    "\n",
    "#definimos col partido\n",
    "data.loc[partido.index,\"partido\"] = partido\n",
    "data.loc[ba_cities_partido.index,\"partido\"] = ba_cities_partido\n",
    "data.loc[ba_barrios_partido.index,\"partido\"] = ba_barrios_partido\n",
    "#completamos con N.A si no corresponde indicar ciudad\n",
    "partido_fill = data[\"partido\"].fillna(\"N.A\")\n",
    "data[\"partido\"] = partido_fill"
   ]
  },
  {
   "cell_type": "code",
   "execution_count": 147,
   "id": "1fc66537",
   "metadata": {},
   "outputs": [
    {
     "data": {
      "text/html": [
       "<div>\n",
       "<style scoped>\n",
       "    .dataframe tbody tr th:only-of-type {\n",
       "        vertical-align: middle;\n",
       "    }\n",
       "\n",
       "    .dataframe tbody tr th {\n",
       "        vertical-align: top;\n",
       "    }\n",
       "\n",
       "    .dataframe thead th {\n",
       "        text-align: right;\n",
       "    }\n",
       "</style>\n",
       "<table border=\"1\" class=\"dataframe\">\n",
       "  <thead>\n",
       "    <tr style=\"text-align: right;\">\n",
       "      <th></th>\n",
       "      <th>provincia</th>\n",
       "      <th>ciudad</th>\n",
       "      <th>barrio</th>\n",
       "      <th>partido</th>\n",
       "    </tr>\n",
       "  </thead>\n",
       "  <tbody>\n",
       "    <tr>\n",
       "      <th>11850</th>\n",
       "      <td>Buenos Aires</td>\n",
       "      <td>Jose Marmol</td>\n",
       "      <td>N.A</td>\n",
       "      <td>Almirante Brown</td>\n",
       "    </tr>\n",
       "    <tr>\n",
       "      <th>49348</th>\n",
       "      <td>Buenos Aires</td>\n",
       "      <td>Capital Federal</td>\n",
       "      <td>Recoleta</td>\n",
       "      <td>N.A</td>\n",
       "    </tr>\n",
       "    <tr>\n",
       "      <th>3858</th>\n",
       "      <td>Buenos Aires</td>\n",
       "      <td>N.A</td>\n",
       "      <td>N.A</td>\n",
       "      <td>Moreno</td>\n",
       "    </tr>\n",
       "    <tr>\n",
       "      <th>33684</th>\n",
       "      <td>Buenos Aires</td>\n",
       "      <td>Belén de Escobar</td>\n",
       "      <td>N.A</td>\n",
       "      <td>Escobar</td>\n",
       "    </tr>\n",
       "    <tr>\n",
       "      <th>83080</th>\n",
       "      <td>Buenos Aires</td>\n",
       "      <td>Capital Federal</td>\n",
       "      <td>N.A</td>\n",
       "      <td>N.A</td>\n",
       "    </tr>\n",
       "  </tbody>\n",
       "</table>\n",
       "</div>"
      ],
      "text/plain": [
       "          provincia            ciudad    barrio          partido\n",
       "11850  Buenos Aires       Jose Marmol       N.A  Almirante Brown\n",
       "49348  Buenos Aires   Capital Federal  Recoleta              N.A\n",
       "3858   Buenos Aires               N.A       N.A           Moreno\n",
       "33684  Buenos Aires  Belén de Escobar       N.A          Escobar\n",
       "83080  Buenos Aires   Capital Federal       N.A              N.A"
      ]
     },
     "execution_count": 147,
     "metadata": {},
     "output_type": "execute_result"
    }
   ],
   "source": [
    "data[[\"provincia\",\"ciudad\",\"barrio\",\"partido\"]].sample(5)"
   ]
  },
  {
   "cell_type": "code",
   "execution_count": 148,
   "id": "85f940bc",
   "metadata": {},
   "outputs": [],
   "source": [
    "# sns.set(rc={\"figure.figsize\": (30, 20)})\n",
    "# bplot = sns.boxplot(y='price_clean', x='provincia', \n",
    "#                  data=data, \n",
    "#                  width=0.5,\n",
    "#                  palette=\"colorblind\")"
   ]
  },
  {
   "cell_type": "markdown",
   "id": "710a2a81",
   "metadata": {},
   "source": [
    "## 6. Dataset Final\n",
    "\n",
    "[volver a TOC](#section_toc)\n",
    "\n",
    "Eliminamos las columnas provisorias:"
   ]
  },
  {
   "cell_type": "code",
   "execution_count": 149,
   "id": "830e6ff0",
   "metadata": {},
   "outputs": [],
   "source": [
    "data.dropna(subset=['ambientes'],inplace=True) "
   ]
  },
  {
   "cell_type": "code",
   "execution_count": 150,
   "id": "2e7bc47a",
   "metadata": {},
   "outputs": [],
   "source": [
    "data.to_csv('data_final_outli.csv')"
   ]
  }
 ],
 "metadata": {
  "kernelspec": {
   "display_name": "Python 3 (ipykernel)",
   "language": "python",
   "name": "python3"
  },
  "language_info": {
   "codemirror_mode": {
    "name": "ipython",
    "version": 3
   },
   "file_extension": ".py",
   "mimetype": "text/x-python",
   "name": "python",
   "nbconvert_exporter": "python",
   "pygments_lexer": "ipython3",
   "version": "3.8.12"
  }
 },
 "nbformat": 4,
 "nbformat_minor": 5
}
